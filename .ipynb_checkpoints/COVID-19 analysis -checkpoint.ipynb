{
 "cells": [
  {
   "cell_type": "code",
   "execution_count": 2,
   "metadata": {},
   "outputs": [
    {
     "ename": "ModuleNotFoundError",
     "evalue": "No module named 'plotly'",
     "output_type": "error",
     "traceback": [
      "\u001b[1;31m---------------------------------------------------------------------------\u001b[0m",
      "\u001b[1;31mModuleNotFoundError\u001b[0m                       Traceback (most recent call last)",
      "\u001b[1;32m<ipython-input-2-5de5469c1da4>\u001b[0m in \u001b[0;36m<module>\u001b[1;34m\u001b[0m\n\u001b[0;32m      9\u001b[0m \u001b[1;32mimport\u001b[0m \u001b[0mmatplotlib\u001b[0m\u001b[1;33m.\u001b[0m\u001b[0mdates\u001b[0m \u001b[1;32mas\u001b[0m \u001b[0mmdates\u001b[0m\u001b[1;33m\u001b[0m\u001b[1;33m\u001b[0m\u001b[0m\n\u001b[0;32m     10\u001b[0m \u001b[1;32mimport\u001b[0m \u001b[0mseaborn\u001b[0m \u001b[1;32mas\u001b[0m \u001b[0msns\u001b[0m\u001b[1;33m\u001b[0m\u001b[1;33m\u001b[0m\u001b[0m\n\u001b[1;32m---> 11\u001b[1;33m \u001b[1;32mimport\u001b[0m \u001b[0mplotly\u001b[0m\u001b[1;33m.\u001b[0m\u001b[0moffline\u001b[0m \u001b[1;32mas\u001b[0m \u001b[0mpy\u001b[0m\u001b[1;33m\u001b[0m\u001b[1;33m\u001b[0m\u001b[0m\n\u001b[0m\u001b[0;32m     12\u001b[0m \u001b[1;32mimport\u001b[0m \u001b[0mplotly_express\u001b[0m \u001b[1;32mas\u001b[0m \u001b[0mpx\u001b[0m\u001b[1;33m\u001b[0m\u001b[1;33m\u001b[0m\u001b[0m\n\u001b[0;32m     13\u001b[0m \u001b[1;33m\u001b[0m\u001b[0m\n",
      "\u001b[1;31mModuleNotFoundError\u001b[0m: No module named 'plotly'"
     ]
    }
   ],
   "source": []
  },
  {
   "cell_type": "code",
   "execution_count": null,
   "metadata": {},
   "outputs": [],
   "source": [
    "age_details = pd.read_csv('input/covid19-in-india/AgeGroupDetails.csv')\n",
    "india_covid_19 = pd.read_csv('input/covid19-in-india/covid_19_india.csv')\n",
    "hospital_beds = pd.read_csv('input/covid19-in-india/HospitalBedsIndia.csv')\n",
    "individual_details = pd.read_csv('input/covid19-in-india/IndividualDetails.csv')\n",
    "ICMR_details = pd.read_csv('input/covid19-in-india/ICMRTestingDetails.csv')\n",
    "ICMR_labs = pd.read_csv('input/covid19-in-india/ICMRTestingLabs.csv')\n",
    "state_testing = pd.read_csv('input/covid19-in-india/StatewiseTestingDetails.csv')\n",
    "population = pd.read_csv('input/covid19-in-india/population_india_census2011.csv')"
   ]
  },
  {
   "cell_type": "code",
   "execution_count": null,
   "metadata": {},
   "outputs": [],
   "source": [
    "india_covid_19['Date'] = pd.to_datetime(india_covid_19['Date'],dayfirst = True)\n",
    "state_testing['Date'] = pd.to_datetime(state_testing['Date'])\n",
    "ICMR_details['DateTime'] = pd.to_datetime(ICMR_details['DateTime'],dayfirst = True)\n",
    "ICMR_details = ICMR_details.dropna(subset=['TotalSamplesTested', 'TotalPositiveCases'])"
   ]
  },
  {
   "cell_type": "markdown",
   "metadata": {},
   "source": [
    "## 1. World Updates"
   ]
  },
  {
   "cell_type": "code",
   "execution_count": null,
   "metadata": {},
   "outputs": [],
   "source": [
    "confirmed_df = pd.read_csv('https://raw.githubusercontent.com/CSSEGISandData/COVID-19/master/csse_covid_19_data/csse_covid_19_time_series/time_series_covid19_confirmed_global.csv')\n",
    "deaths_df = pd.read_csv('https://raw.githubusercontent.com/CSSEGISandData/COVID-19/master/csse_covid_19_data/csse_covid_19_time_series/time_series_covid19_deaths_global.csv')\n",
    "recovered_df = pd.read_csv('https://raw.githubusercontent.com/CSSEGISandData/COVID-19/master/csse_covid_19_data/csse_covid_19_time_series/time_series_covid19_recovered_global.csv')"
   ]
  },
  {
   "cell_type": "code",
   "execution_count": null,
   "metadata": {},
   "outputs": [],
   "source": [
    "world_confirmed = confirmed_df[confirmed_df.columns[-1:]].sum()\n",
    "world_recovered = recovered_df[recovered_df.columns[-1:]].sum()\n",
    "world_deaths = deaths_df[deaths_df.columns[-1:]].sum()\n",
    "world_active = world_confirmed - (world_recovered - world_deaths)\n",
    "\n",
    "\n",
    "print('Total confirmed cases :',world_confirmed)\n",
    "print('Total Active cases :',world_active)\n",
    "print('Total deaths :',world_deaths)\n",
    "print('Total recoveries :',world_recovered)\n",
    "\n",
    "labels = ['Active','Recovered','Deceased']\n",
    "sizes = [world_active,world_recovered,world_deaths]\n",
    "color= ['#66b3ff','green','red']\n",
    "\n",
    "    \n",
    "plt.figure(figsize= (7,7))\n",
    "plt.pie(sizes, labels=labels, autopct='%1.1f%%', startangle=9,colors = color)\n",
    "centre_circle = plt.Circle((0,0),0.70,fc='white')\n",
    "\n",
    "fig = plt.gcf()\n",
    "fig.gca().add_artist(centre_circle)\n",
    "plt.title('World COVID-19 Cases',fontsize = 20)\n",
    "plt.axis('equal')  \n",
    "plt.tight_layout()"
   ]
  },
  {
   "cell_type": "code",
   "execution_count": 21,
   "metadata": {},
   "outputs": [
    {
     "ename": "TypeError",
     "evalue": "the dtypes of parameters x (object) and width (float64) are incompatible",
     "output_type": "error",
     "traceback": [
      "\u001b[1;31m---------------------------------------------------------------------------\u001b[0m",
      "\u001b[1;31mTypeError\u001b[0m                                 Traceback (most recent call last)",
      "\u001b[1;32m~\\anaconda3\\lib\\site-packages\\matplotlib\\axes\\_axes.py\u001b[0m in \u001b[0;36mbar\u001b[1;34m(self, x, height, width, bottom, align, **kwargs)\u001b[0m\n\u001b[0;32m   2400\u001b[0m                 \u001b[1;32mtry\u001b[0m\u001b[1;33m:\u001b[0m\u001b[1;33m\u001b[0m\u001b[1;33m\u001b[0m\u001b[0m\n\u001b[1;32m-> 2401\u001b[1;33m                     \u001b[0mleft\u001b[0m \u001b[1;33m=\u001b[0m \u001b[0mx\u001b[0m \u001b[1;33m-\u001b[0m \u001b[0mwidth\u001b[0m \u001b[1;33m/\u001b[0m \u001b[1;36m2\u001b[0m\u001b[1;33m\u001b[0m\u001b[1;33m\u001b[0m\u001b[0m\n\u001b[0m\u001b[0;32m   2402\u001b[0m                 \u001b[1;32mexcept\u001b[0m \u001b[0mTypeError\u001b[0m \u001b[1;32mas\u001b[0m \u001b[0me\u001b[0m\u001b[1;33m:\u001b[0m\u001b[1;33m\u001b[0m\u001b[1;33m\u001b[0m\u001b[0m\n",
      "\u001b[1;31mTypeError\u001b[0m: unsupported operand type(s) for -: 'Timestamp' and 'float'",
      "\nThe above exception was the direct cause of the following exception:\n",
      "\u001b[1;31mTypeError\u001b[0m                                 Traceback (most recent call last)",
      "\u001b[1;32m<ipython-input-21-915021675a20>\u001b[0m in \u001b[0;36m<module>\u001b[1;34m\u001b[0m\n\u001b[0;32m     34\u001b[0m     \u001b[0max\u001b[0m \u001b[1;33m=\u001b[0m \u001b[0mfig\u001b[0m\u001b[1;33m.\u001b[0m\u001b[0madd_subplot\u001b[0m\u001b[1;33m(\u001b[0m\u001b[1;36m6\u001b[0m\u001b[1;33m,\u001b[0m\u001b[1;36m2\u001b[0m\u001b[1;33m,\u001b[0m\u001b[0mi\u001b[0m\u001b[1;33m)\u001b[0m\u001b[1;33m\u001b[0m\u001b[1;33m\u001b[0m\u001b[0m\n\u001b[0;32m     35\u001b[0m     \u001b[0max\u001b[0m\u001b[1;33m.\u001b[0m\u001b[0mxaxis\u001b[0m\u001b[1;33m.\u001b[0m\u001b[0mset_major_formatter\u001b[0m\u001b[1;33m(\u001b[0m\u001b[0mmdates\u001b[0m\u001b[1;33m.\u001b[0m\u001b[0mDateFormatter\u001b[0m\u001b[1;33m(\u001b[0m\u001b[1;34m'%d-%b'\u001b[0m\u001b[1;33m)\u001b[0m\u001b[1;33m)\u001b[0m\u001b[1;33m\u001b[0m\u001b[1;33m\u001b[0m\u001b[0m\n\u001b[1;32m---> 36\u001b[1;33m     \u001b[0max\u001b[0m\u001b[1;33m.\u001b[0m\u001b[0mbar\u001b[0m\u001b[1;33m(\u001b[0m\u001b[0mdates_india\u001b[0m\u001b[1;33m,\u001b[0m\u001b[0mglobal_active\u001b[0m\u001b[1;33m[\u001b[0m\u001b[0mhotspots\u001b[0m\u001b[1;33m[\u001b[0m\u001b[0mk\u001b[0m\u001b[1;33m]\u001b[0m\u001b[1;33m]\u001b[0m\u001b[1;33m,\u001b[0m\u001b[0mcolor\u001b[0m \u001b[1;33m=\u001b[0m \u001b[1;34m'green'\u001b[0m\u001b[1;33m,\u001b[0m\u001b[0malpha\u001b[0m \u001b[1;33m=\u001b[0m \u001b[1;36m0.6\u001b[0m\u001b[1;33m,\u001b[0m\u001b[0mlabel\u001b[0m \u001b[1;33m=\u001b[0m \u001b[1;34m'Active'\u001b[0m\u001b[1;33m)\u001b[0m\u001b[1;33m;\u001b[0m\u001b[1;33m\u001b[0m\u001b[1;33m\u001b[0m\u001b[0m\n\u001b[0m\u001b[0;32m     37\u001b[0m     \u001b[0max\u001b[0m\u001b[1;33m.\u001b[0m\u001b[0mbar\u001b[0m\u001b[1;33m(\u001b[0m\u001b[0mdates_india\u001b[0m\u001b[1;33m,\u001b[0m\u001b[0mglobal_recovered\u001b[0m\u001b[1;33m[\u001b[0m\u001b[0mhotspots\u001b[0m\u001b[1;33m[\u001b[0m\u001b[0mk\u001b[0m\u001b[1;33m]\u001b[0m\u001b[1;33m]\u001b[0m\u001b[1;33m,\u001b[0m\u001b[0mcolor\u001b[0m\u001b[1;33m=\u001b[0m\u001b[1;34m'grey'\u001b[0m\u001b[1;33m,\u001b[0m\u001b[0mlabel\u001b[0m \u001b[1;33m=\u001b[0m \u001b[1;34m'Recovered'\u001b[0m\u001b[1;33m)\u001b[0m\u001b[1;33m;\u001b[0m\u001b[1;33m\u001b[0m\u001b[1;33m\u001b[0m\u001b[0m\n\u001b[0;32m     38\u001b[0m     \u001b[0max\u001b[0m\u001b[1;33m.\u001b[0m\u001b[0mbar\u001b[0m\u001b[1;33m(\u001b[0m\u001b[0mdates_india\u001b[0m\u001b[1;33m,\u001b[0m\u001b[0mglobal_deaths\u001b[0m\u001b[1;33m[\u001b[0m\u001b[0mhotspots\u001b[0m\u001b[1;33m[\u001b[0m\u001b[0mk\u001b[0m\u001b[1;33m]\u001b[0m\u001b[1;33m]\u001b[0m\u001b[1;33m,\u001b[0m\u001b[0mcolor\u001b[0m\u001b[1;33m=\u001b[0m\u001b[1;34m'red'\u001b[0m\u001b[1;33m,\u001b[0m\u001b[0mlabel\u001b[0m \u001b[1;33m=\u001b[0m \u001b[1;34m'Death'\u001b[0m\u001b[1;33m)\u001b[0m\u001b[1;33m;\u001b[0m\u001b[1;33m\u001b[0m\u001b[1;33m\u001b[0m\u001b[0m\n",
      "\u001b[1;32m~\\anaconda3\\lib\\site-packages\\matplotlib\\__init__.py\u001b[0m in \u001b[0;36minner\u001b[1;34m(ax, data, *args, **kwargs)\u001b[0m\n\u001b[0;32m   1597\u001b[0m     \u001b[1;32mdef\u001b[0m \u001b[0minner\u001b[0m\u001b[1;33m(\u001b[0m\u001b[0max\u001b[0m\u001b[1;33m,\u001b[0m \u001b[1;33m*\u001b[0m\u001b[0margs\u001b[0m\u001b[1;33m,\u001b[0m \u001b[0mdata\u001b[0m\u001b[1;33m=\u001b[0m\u001b[1;32mNone\u001b[0m\u001b[1;33m,\u001b[0m \u001b[1;33m**\u001b[0m\u001b[0mkwargs\u001b[0m\u001b[1;33m)\u001b[0m\u001b[1;33m:\u001b[0m\u001b[1;33m\u001b[0m\u001b[1;33m\u001b[0m\u001b[0m\n\u001b[0;32m   1598\u001b[0m         \u001b[1;32mif\u001b[0m \u001b[0mdata\u001b[0m \u001b[1;32mis\u001b[0m \u001b[1;32mNone\u001b[0m\u001b[1;33m:\u001b[0m\u001b[1;33m\u001b[0m\u001b[1;33m\u001b[0m\u001b[0m\n\u001b[1;32m-> 1599\u001b[1;33m             \u001b[1;32mreturn\u001b[0m \u001b[0mfunc\u001b[0m\u001b[1;33m(\u001b[0m\u001b[0max\u001b[0m\u001b[1;33m,\u001b[0m \u001b[1;33m*\u001b[0m\u001b[0mmap\u001b[0m\u001b[1;33m(\u001b[0m\u001b[0msanitize_sequence\u001b[0m\u001b[1;33m,\u001b[0m \u001b[0margs\u001b[0m\u001b[1;33m)\u001b[0m\u001b[1;33m,\u001b[0m \u001b[1;33m**\u001b[0m\u001b[0mkwargs\u001b[0m\u001b[1;33m)\u001b[0m\u001b[1;33m\u001b[0m\u001b[1;33m\u001b[0m\u001b[0m\n\u001b[0m\u001b[0;32m   1600\u001b[0m \u001b[1;33m\u001b[0m\u001b[0m\n\u001b[0;32m   1601\u001b[0m         \u001b[0mbound\u001b[0m \u001b[1;33m=\u001b[0m \u001b[0mnew_sig\u001b[0m\u001b[1;33m.\u001b[0m\u001b[0mbind\u001b[0m\u001b[1;33m(\u001b[0m\u001b[0max\u001b[0m\u001b[1;33m,\u001b[0m \u001b[1;33m*\u001b[0m\u001b[0margs\u001b[0m\u001b[1;33m,\u001b[0m \u001b[1;33m**\u001b[0m\u001b[0mkwargs\u001b[0m\u001b[1;33m)\u001b[0m\u001b[1;33m\u001b[0m\u001b[1;33m\u001b[0m\u001b[0m\n",
      "\u001b[1;32m~\\anaconda3\\lib\\site-packages\\matplotlib\\axes\\_axes.py\u001b[0m in \u001b[0;36mbar\u001b[1;34m(self, x, height, width, bottom, align, **kwargs)\u001b[0m\n\u001b[0;32m   2403\u001b[0m                     raise TypeError(f'the dtypes of parameters x ({x.dtype}) '\n\u001b[0;32m   2404\u001b[0m                                     \u001b[1;34mf'and width ({width.dtype}) '\u001b[0m\u001b[1;33m\u001b[0m\u001b[1;33m\u001b[0m\u001b[0m\n\u001b[1;32m-> 2405\u001b[1;33m                                     f'are incompatible') from e\n\u001b[0m\u001b[0;32m   2406\u001b[0m                 \u001b[0mbottom\u001b[0m \u001b[1;33m=\u001b[0m \u001b[0my\u001b[0m\u001b[1;33m\u001b[0m\u001b[1;33m\u001b[0m\u001b[0m\n\u001b[0;32m   2407\u001b[0m             \u001b[1;32melif\u001b[0m \u001b[0morientation\u001b[0m \u001b[1;33m==\u001b[0m \u001b[1;34m'horizontal'\u001b[0m\u001b[1;33m:\u001b[0m\u001b[1;33m\u001b[0m\u001b[1;33m\u001b[0m\u001b[0m\n",
      "\u001b[1;31mTypeError\u001b[0m: the dtypes of parameters x (object) and width (float64) are incompatible"
     ]
    },
    {
     "ename": "ValueError",
     "evalue": "DateFormatter found a value of x=0, which is an illegal date; this usually occurs because you have not informed the axis that it is plotting dates, e.g., with ax.xaxis_date()",
     "output_type": "error",
     "traceback": [
      "\u001b[1;31m---------------------------------------------------------------------------\u001b[0m",
      "\u001b[1;31mValueError\u001b[0m                                Traceback (most recent call last)",
      "\u001b[1;32m~\\anaconda3\\lib\\site-packages\\IPython\\core\\formatters.py\u001b[0m in \u001b[0;36m__call__\u001b[1;34m(self, obj)\u001b[0m\n\u001b[0;32m    339\u001b[0m                 \u001b[1;32mpass\u001b[0m\u001b[1;33m\u001b[0m\u001b[1;33m\u001b[0m\u001b[0m\n\u001b[0;32m    340\u001b[0m             \u001b[1;32melse\u001b[0m\u001b[1;33m:\u001b[0m\u001b[1;33m\u001b[0m\u001b[1;33m\u001b[0m\u001b[0m\n\u001b[1;32m--> 341\u001b[1;33m                 \u001b[1;32mreturn\u001b[0m \u001b[0mprinter\u001b[0m\u001b[1;33m(\u001b[0m\u001b[0mobj\u001b[0m\u001b[1;33m)\u001b[0m\u001b[1;33m\u001b[0m\u001b[1;33m\u001b[0m\u001b[0m\n\u001b[0m\u001b[0;32m    342\u001b[0m             \u001b[1;31m# Finally look for special method names\u001b[0m\u001b[1;33m\u001b[0m\u001b[1;33m\u001b[0m\u001b[1;33m\u001b[0m\u001b[0m\n\u001b[0;32m    343\u001b[0m             \u001b[0mmethod\u001b[0m \u001b[1;33m=\u001b[0m \u001b[0mget_real_method\u001b[0m\u001b[1;33m(\u001b[0m\u001b[0mobj\u001b[0m\u001b[1;33m,\u001b[0m \u001b[0mself\u001b[0m\u001b[1;33m.\u001b[0m\u001b[0mprint_method\u001b[0m\u001b[1;33m)\u001b[0m\u001b[1;33m\u001b[0m\u001b[1;33m\u001b[0m\u001b[0m\n",
      "\u001b[1;32m~\\anaconda3\\lib\\site-packages\\IPython\\core\\pylabtools.py\u001b[0m in \u001b[0;36m<lambda>\u001b[1;34m(fig)\u001b[0m\n\u001b[0;32m    246\u001b[0m \u001b[1;33m\u001b[0m\u001b[0m\n\u001b[0;32m    247\u001b[0m     \u001b[1;32mif\u001b[0m \u001b[1;34m'png'\u001b[0m \u001b[1;32min\u001b[0m \u001b[0mformats\u001b[0m\u001b[1;33m:\u001b[0m\u001b[1;33m\u001b[0m\u001b[1;33m\u001b[0m\u001b[0m\n\u001b[1;32m--> 248\u001b[1;33m         \u001b[0mpng_formatter\u001b[0m\u001b[1;33m.\u001b[0m\u001b[0mfor_type\u001b[0m\u001b[1;33m(\u001b[0m\u001b[0mFigure\u001b[0m\u001b[1;33m,\u001b[0m \u001b[1;32mlambda\u001b[0m \u001b[0mfig\u001b[0m\u001b[1;33m:\u001b[0m \u001b[0mprint_figure\u001b[0m\u001b[1;33m(\u001b[0m\u001b[0mfig\u001b[0m\u001b[1;33m,\u001b[0m \u001b[1;34m'png'\u001b[0m\u001b[1;33m,\u001b[0m \u001b[1;33m**\u001b[0m\u001b[0mkwargs\u001b[0m\u001b[1;33m)\u001b[0m\u001b[1;33m)\u001b[0m\u001b[1;33m\u001b[0m\u001b[1;33m\u001b[0m\u001b[0m\n\u001b[0m\u001b[0;32m    249\u001b[0m     \u001b[1;32mif\u001b[0m \u001b[1;34m'retina'\u001b[0m \u001b[1;32min\u001b[0m \u001b[0mformats\u001b[0m \u001b[1;32mor\u001b[0m \u001b[1;34m'png2x'\u001b[0m \u001b[1;32min\u001b[0m \u001b[0mformats\u001b[0m\u001b[1;33m:\u001b[0m\u001b[1;33m\u001b[0m\u001b[1;33m\u001b[0m\u001b[0m\n\u001b[0;32m    250\u001b[0m         \u001b[0mpng_formatter\u001b[0m\u001b[1;33m.\u001b[0m\u001b[0mfor_type\u001b[0m\u001b[1;33m(\u001b[0m\u001b[0mFigure\u001b[0m\u001b[1;33m,\u001b[0m \u001b[1;32mlambda\u001b[0m \u001b[0mfig\u001b[0m\u001b[1;33m:\u001b[0m \u001b[0mretina_figure\u001b[0m\u001b[1;33m(\u001b[0m\u001b[0mfig\u001b[0m\u001b[1;33m,\u001b[0m \u001b[1;33m**\u001b[0m\u001b[0mkwargs\u001b[0m\u001b[1;33m)\u001b[0m\u001b[1;33m)\u001b[0m\u001b[1;33m\u001b[0m\u001b[1;33m\u001b[0m\u001b[0m\n",
      "\u001b[1;32m~\\anaconda3\\lib\\site-packages\\IPython\\core\\pylabtools.py\u001b[0m in \u001b[0;36mprint_figure\u001b[1;34m(fig, fmt, bbox_inches, **kwargs)\u001b[0m\n\u001b[0;32m    130\u001b[0m         \u001b[0mFigureCanvasBase\u001b[0m\u001b[1;33m(\u001b[0m\u001b[0mfig\u001b[0m\u001b[1;33m)\u001b[0m\u001b[1;33m\u001b[0m\u001b[1;33m\u001b[0m\u001b[0m\n\u001b[0;32m    131\u001b[0m \u001b[1;33m\u001b[0m\u001b[0m\n\u001b[1;32m--> 132\u001b[1;33m     \u001b[0mfig\u001b[0m\u001b[1;33m.\u001b[0m\u001b[0mcanvas\u001b[0m\u001b[1;33m.\u001b[0m\u001b[0mprint_figure\u001b[0m\u001b[1;33m(\u001b[0m\u001b[0mbytes_io\u001b[0m\u001b[1;33m,\u001b[0m \u001b[1;33m**\u001b[0m\u001b[0mkw\u001b[0m\u001b[1;33m)\u001b[0m\u001b[1;33m\u001b[0m\u001b[1;33m\u001b[0m\u001b[0m\n\u001b[0m\u001b[0;32m    133\u001b[0m     \u001b[0mdata\u001b[0m \u001b[1;33m=\u001b[0m \u001b[0mbytes_io\u001b[0m\u001b[1;33m.\u001b[0m\u001b[0mgetvalue\u001b[0m\u001b[1;33m(\u001b[0m\u001b[1;33m)\u001b[0m\u001b[1;33m\u001b[0m\u001b[1;33m\u001b[0m\u001b[0m\n\u001b[0;32m    134\u001b[0m     \u001b[1;32mif\u001b[0m \u001b[0mfmt\u001b[0m \u001b[1;33m==\u001b[0m \u001b[1;34m'svg'\u001b[0m\u001b[1;33m:\u001b[0m\u001b[1;33m\u001b[0m\u001b[1;33m\u001b[0m\u001b[0m\n",
      "\u001b[1;32m~\\anaconda3\\lib\\site-packages\\matplotlib\\backend_bases.py\u001b[0m in \u001b[0;36mprint_figure\u001b[1;34m(self, filename, dpi, facecolor, edgecolor, orientation, format, bbox_inches, **kwargs)\u001b[0m\n\u001b[0;32m   2063\u001b[0m                         \u001b[0morientation\u001b[0m\u001b[1;33m=\u001b[0m\u001b[0morientation\u001b[0m\u001b[1;33m,\u001b[0m\u001b[1;33m\u001b[0m\u001b[1;33m\u001b[0m\u001b[0m\n\u001b[0;32m   2064\u001b[0m                         \u001b[0mdryrun\u001b[0m\u001b[1;33m=\u001b[0m\u001b[1;32mTrue\u001b[0m\u001b[1;33m,\u001b[0m\u001b[1;33m\u001b[0m\u001b[1;33m\u001b[0m\u001b[0m\n\u001b[1;32m-> 2065\u001b[1;33m                         **kwargs)\n\u001b[0m\u001b[0;32m   2066\u001b[0m                     \u001b[0mrenderer\u001b[0m \u001b[1;33m=\u001b[0m \u001b[0mself\u001b[0m\u001b[1;33m.\u001b[0m\u001b[0mfigure\u001b[0m\u001b[1;33m.\u001b[0m\u001b[0m_cachedRenderer\u001b[0m\u001b[1;33m\u001b[0m\u001b[1;33m\u001b[0m\u001b[0m\n\u001b[0;32m   2067\u001b[0m                     \u001b[0mbbox_artists\u001b[0m \u001b[1;33m=\u001b[0m \u001b[0mkwargs\u001b[0m\u001b[1;33m.\u001b[0m\u001b[0mpop\u001b[0m\u001b[1;33m(\u001b[0m\u001b[1;34m\"bbox_extra_artists\"\u001b[0m\u001b[1;33m,\u001b[0m \u001b[1;32mNone\u001b[0m\u001b[1;33m)\u001b[0m\u001b[1;33m\u001b[0m\u001b[1;33m\u001b[0m\u001b[0m\n",
      "\u001b[1;32m~\\anaconda3\\lib\\site-packages\\matplotlib\\backends\\backend_agg.py\u001b[0m in \u001b[0;36mprint_png\u001b[1;34m(self, filename_or_obj, metadata, pil_kwargs, *args, **kwargs)\u001b[0m\n\u001b[0;32m    525\u001b[0m \u001b[1;33m\u001b[0m\u001b[0m\n\u001b[0;32m    526\u001b[0m         \u001b[1;32melse\u001b[0m\u001b[1;33m:\u001b[0m\u001b[1;33m\u001b[0m\u001b[1;33m\u001b[0m\u001b[0m\n\u001b[1;32m--> 527\u001b[1;33m             \u001b[0mFigureCanvasAgg\u001b[0m\u001b[1;33m.\u001b[0m\u001b[0mdraw\u001b[0m\u001b[1;33m(\u001b[0m\u001b[0mself\u001b[0m\u001b[1;33m)\u001b[0m\u001b[1;33m\u001b[0m\u001b[1;33m\u001b[0m\u001b[0m\n\u001b[0m\u001b[0;32m    528\u001b[0m             \u001b[0mrenderer\u001b[0m \u001b[1;33m=\u001b[0m \u001b[0mself\u001b[0m\u001b[1;33m.\u001b[0m\u001b[0mget_renderer\u001b[0m\u001b[1;33m(\u001b[0m\u001b[1;33m)\u001b[0m\u001b[1;33m\u001b[0m\u001b[1;33m\u001b[0m\u001b[0m\n\u001b[0;32m    529\u001b[0m             \u001b[1;32mwith\u001b[0m \u001b[0mcbook\u001b[0m\u001b[1;33m.\u001b[0m\u001b[0m_setattr_cm\u001b[0m\u001b[1;33m(\u001b[0m\u001b[0mrenderer\u001b[0m\u001b[1;33m,\u001b[0m \u001b[0mdpi\u001b[0m\u001b[1;33m=\u001b[0m\u001b[0mself\u001b[0m\u001b[1;33m.\u001b[0m\u001b[0mfigure\u001b[0m\u001b[1;33m.\u001b[0m\u001b[0mdpi\u001b[0m\u001b[1;33m)\u001b[0m\u001b[1;33m,\u001b[0m\u001b[0;31m \u001b[0m\u001b[0;31m\\\u001b[0m\u001b[1;33m\u001b[0m\u001b[1;33m\u001b[0m\u001b[0m\n",
      "\u001b[1;32m~\\anaconda3\\lib\\site-packages\\matplotlib\\backends\\backend_agg.py\u001b[0m in \u001b[0;36mdraw\u001b[1;34m(self)\u001b[0m\n\u001b[0;32m    386\u001b[0m         \u001b[0mself\u001b[0m\u001b[1;33m.\u001b[0m\u001b[0mrenderer\u001b[0m \u001b[1;33m=\u001b[0m \u001b[0mself\u001b[0m\u001b[1;33m.\u001b[0m\u001b[0mget_renderer\u001b[0m\u001b[1;33m(\u001b[0m\u001b[0mcleared\u001b[0m\u001b[1;33m=\u001b[0m\u001b[1;32mTrue\u001b[0m\u001b[1;33m)\u001b[0m\u001b[1;33m\u001b[0m\u001b[1;33m\u001b[0m\u001b[0m\n\u001b[0;32m    387\u001b[0m         \u001b[1;32mwith\u001b[0m \u001b[0mRendererAgg\u001b[0m\u001b[1;33m.\u001b[0m\u001b[0mlock\u001b[0m\u001b[1;33m:\u001b[0m\u001b[1;33m\u001b[0m\u001b[1;33m\u001b[0m\u001b[0m\n\u001b[1;32m--> 388\u001b[1;33m             \u001b[0mself\u001b[0m\u001b[1;33m.\u001b[0m\u001b[0mfigure\u001b[0m\u001b[1;33m.\u001b[0m\u001b[0mdraw\u001b[0m\u001b[1;33m(\u001b[0m\u001b[0mself\u001b[0m\u001b[1;33m.\u001b[0m\u001b[0mrenderer\u001b[0m\u001b[1;33m)\u001b[0m\u001b[1;33m\u001b[0m\u001b[1;33m\u001b[0m\u001b[0m\n\u001b[0m\u001b[0;32m    389\u001b[0m             \u001b[1;31m# A GUI class may be need to update a window using this draw, so\u001b[0m\u001b[1;33m\u001b[0m\u001b[1;33m\u001b[0m\u001b[1;33m\u001b[0m\u001b[0m\n\u001b[0;32m    390\u001b[0m             \u001b[1;31m# don't forget to call the superclass.\u001b[0m\u001b[1;33m\u001b[0m\u001b[1;33m\u001b[0m\u001b[1;33m\u001b[0m\u001b[0m\n",
      "\u001b[1;32m~\\anaconda3\\lib\\site-packages\\matplotlib\\artist.py\u001b[0m in \u001b[0;36mdraw_wrapper\u001b[1;34m(artist, renderer, *args, **kwargs)\u001b[0m\n\u001b[0;32m     36\u001b[0m                 \u001b[0mrenderer\u001b[0m\u001b[1;33m.\u001b[0m\u001b[0mstart_filter\u001b[0m\u001b[1;33m(\u001b[0m\u001b[1;33m)\u001b[0m\u001b[1;33m\u001b[0m\u001b[1;33m\u001b[0m\u001b[0m\n\u001b[0;32m     37\u001b[0m \u001b[1;33m\u001b[0m\u001b[0m\n\u001b[1;32m---> 38\u001b[1;33m             \u001b[1;32mreturn\u001b[0m \u001b[0mdraw\u001b[0m\u001b[1;33m(\u001b[0m\u001b[0martist\u001b[0m\u001b[1;33m,\u001b[0m \u001b[0mrenderer\u001b[0m\u001b[1;33m,\u001b[0m \u001b[1;33m*\u001b[0m\u001b[0margs\u001b[0m\u001b[1;33m,\u001b[0m \u001b[1;33m**\u001b[0m\u001b[0mkwargs\u001b[0m\u001b[1;33m)\u001b[0m\u001b[1;33m\u001b[0m\u001b[1;33m\u001b[0m\u001b[0m\n\u001b[0m\u001b[0;32m     39\u001b[0m         \u001b[1;32mfinally\u001b[0m\u001b[1;33m:\u001b[0m\u001b[1;33m\u001b[0m\u001b[1;33m\u001b[0m\u001b[0m\n\u001b[0;32m     40\u001b[0m             \u001b[1;32mif\u001b[0m \u001b[0martist\u001b[0m\u001b[1;33m.\u001b[0m\u001b[0mget_agg_filter\u001b[0m\u001b[1;33m(\u001b[0m\u001b[1;33m)\u001b[0m \u001b[1;32mis\u001b[0m \u001b[1;32mnot\u001b[0m \u001b[1;32mNone\u001b[0m\u001b[1;33m:\u001b[0m\u001b[1;33m\u001b[0m\u001b[1;33m\u001b[0m\u001b[0m\n",
      "\u001b[1;32m~\\anaconda3\\lib\\site-packages\\matplotlib\\figure.py\u001b[0m in \u001b[0;36mdraw\u001b[1;34m(self, renderer)\u001b[0m\n\u001b[0;32m   1707\u001b[0m             \u001b[0mself\u001b[0m\u001b[1;33m.\u001b[0m\u001b[0mpatch\u001b[0m\u001b[1;33m.\u001b[0m\u001b[0mdraw\u001b[0m\u001b[1;33m(\u001b[0m\u001b[0mrenderer\u001b[0m\u001b[1;33m)\u001b[0m\u001b[1;33m\u001b[0m\u001b[1;33m\u001b[0m\u001b[0m\n\u001b[0;32m   1708\u001b[0m             mimage._draw_list_compositing_images(\n\u001b[1;32m-> 1709\u001b[1;33m                 renderer, self, artists, self.suppressComposite)\n\u001b[0m\u001b[0;32m   1710\u001b[0m \u001b[1;33m\u001b[0m\u001b[0m\n\u001b[0;32m   1711\u001b[0m             \u001b[0mrenderer\u001b[0m\u001b[1;33m.\u001b[0m\u001b[0mclose_group\u001b[0m\u001b[1;33m(\u001b[0m\u001b[1;34m'figure'\u001b[0m\u001b[1;33m)\u001b[0m\u001b[1;33m\u001b[0m\u001b[1;33m\u001b[0m\u001b[0m\n",
      "\u001b[1;32m~\\anaconda3\\lib\\site-packages\\matplotlib\\image.py\u001b[0m in \u001b[0;36m_draw_list_compositing_images\u001b[1;34m(renderer, parent, artists, suppress_composite)\u001b[0m\n\u001b[0;32m    133\u001b[0m     \u001b[1;32mif\u001b[0m \u001b[0mnot_composite\u001b[0m \u001b[1;32mor\u001b[0m \u001b[1;32mnot\u001b[0m \u001b[0mhas_images\u001b[0m\u001b[1;33m:\u001b[0m\u001b[1;33m\u001b[0m\u001b[1;33m\u001b[0m\u001b[0m\n\u001b[0;32m    134\u001b[0m         \u001b[1;32mfor\u001b[0m \u001b[0ma\u001b[0m \u001b[1;32min\u001b[0m \u001b[0martists\u001b[0m\u001b[1;33m:\u001b[0m\u001b[1;33m\u001b[0m\u001b[1;33m\u001b[0m\u001b[0m\n\u001b[1;32m--> 135\u001b[1;33m             \u001b[0ma\u001b[0m\u001b[1;33m.\u001b[0m\u001b[0mdraw\u001b[0m\u001b[1;33m(\u001b[0m\u001b[0mrenderer\u001b[0m\u001b[1;33m)\u001b[0m\u001b[1;33m\u001b[0m\u001b[1;33m\u001b[0m\u001b[0m\n\u001b[0m\u001b[0;32m    136\u001b[0m     \u001b[1;32melse\u001b[0m\u001b[1;33m:\u001b[0m\u001b[1;33m\u001b[0m\u001b[1;33m\u001b[0m\u001b[0m\n\u001b[0;32m    137\u001b[0m         \u001b[1;31m# Composite any adjacent images together\u001b[0m\u001b[1;33m\u001b[0m\u001b[1;33m\u001b[0m\u001b[1;33m\u001b[0m\u001b[0m\n",
      "\u001b[1;32m~\\anaconda3\\lib\\site-packages\\matplotlib\\artist.py\u001b[0m in \u001b[0;36mdraw_wrapper\u001b[1;34m(artist, renderer, *args, **kwargs)\u001b[0m\n\u001b[0;32m     36\u001b[0m                 \u001b[0mrenderer\u001b[0m\u001b[1;33m.\u001b[0m\u001b[0mstart_filter\u001b[0m\u001b[1;33m(\u001b[0m\u001b[1;33m)\u001b[0m\u001b[1;33m\u001b[0m\u001b[1;33m\u001b[0m\u001b[0m\n\u001b[0;32m     37\u001b[0m \u001b[1;33m\u001b[0m\u001b[0m\n\u001b[1;32m---> 38\u001b[1;33m             \u001b[1;32mreturn\u001b[0m \u001b[0mdraw\u001b[0m\u001b[1;33m(\u001b[0m\u001b[0martist\u001b[0m\u001b[1;33m,\u001b[0m \u001b[0mrenderer\u001b[0m\u001b[1;33m,\u001b[0m \u001b[1;33m*\u001b[0m\u001b[0margs\u001b[0m\u001b[1;33m,\u001b[0m \u001b[1;33m**\u001b[0m\u001b[0mkwargs\u001b[0m\u001b[1;33m)\u001b[0m\u001b[1;33m\u001b[0m\u001b[1;33m\u001b[0m\u001b[0m\n\u001b[0m\u001b[0;32m     39\u001b[0m         \u001b[1;32mfinally\u001b[0m\u001b[1;33m:\u001b[0m\u001b[1;33m\u001b[0m\u001b[1;33m\u001b[0m\u001b[0m\n\u001b[0;32m     40\u001b[0m             \u001b[1;32mif\u001b[0m \u001b[0martist\u001b[0m\u001b[1;33m.\u001b[0m\u001b[0mget_agg_filter\u001b[0m\u001b[1;33m(\u001b[0m\u001b[1;33m)\u001b[0m \u001b[1;32mis\u001b[0m \u001b[1;32mnot\u001b[0m \u001b[1;32mNone\u001b[0m\u001b[1;33m:\u001b[0m\u001b[1;33m\u001b[0m\u001b[1;33m\u001b[0m\u001b[0m\n",
      "\u001b[1;32m~\\anaconda3\\lib\\site-packages\\matplotlib\\axes\\_base.py\u001b[0m in \u001b[0;36mdraw\u001b[1;34m(self, renderer, inframe)\u001b[0m\n\u001b[0;32m   2645\u001b[0m             \u001b[0mrenderer\u001b[0m\u001b[1;33m.\u001b[0m\u001b[0mstop_rasterizing\u001b[0m\u001b[1;33m(\u001b[0m\u001b[1;33m)\u001b[0m\u001b[1;33m\u001b[0m\u001b[1;33m\u001b[0m\u001b[0m\n\u001b[0;32m   2646\u001b[0m \u001b[1;33m\u001b[0m\u001b[0m\n\u001b[1;32m-> 2647\u001b[1;33m         \u001b[0mmimage\u001b[0m\u001b[1;33m.\u001b[0m\u001b[0m_draw_list_compositing_images\u001b[0m\u001b[1;33m(\u001b[0m\u001b[0mrenderer\u001b[0m\u001b[1;33m,\u001b[0m \u001b[0mself\u001b[0m\u001b[1;33m,\u001b[0m \u001b[0martists\u001b[0m\u001b[1;33m)\u001b[0m\u001b[1;33m\u001b[0m\u001b[1;33m\u001b[0m\u001b[0m\n\u001b[0m\u001b[0;32m   2648\u001b[0m \u001b[1;33m\u001b[0m\u001b[0m\n\u001b[0;32m   2649\u001b[0m         \u001b[0mrenderer\u001b[0m\u001b[1;33m.\u001b[0m\u001b[0mclose_group\u001b[0m\u001b[1;33m(\u001b[0m\u001b[1;34m'axes'\u001b[0m\u001b[1;33m)\u001b[0m\u001b[1;33m\u001b[0m\u001b[1;33m\u001b[0m\u001b[0m\n",
      "\u001b[1;32m~\\anaconda3\\lib\\site-packages\\matplotlib\\image.py\u001b[0m in \u001b[0;36m_draw_list_compositing_images\u001b[1;34m(renderer, parent, artists, suppress_composite)\u001b[0m\n\u001b[0;32m    133\u001b[0m     \u001b[1;32mif\u001b[0m \u001b[0mnot_composite\u001b[0m \u001b[1;32mor\u001b[0m \u001b[1;32mnot\u001b[0m \u001b[0mhas_images\u001b[0m\u001b[1;33m:\u001b[0m\u001b[1;33m\u001b[0m\u001b[1;33m\u001b[0m\u001b[0m\n\u001b[0;32m    134\u001b[0m         \u001b[1;32mfor\u001b[0m \u001b[0ma\u001b[0m \u001b[1;32min\u001b[0m \u001b[0martists\u001b[0m\u001b[1;33m:\u001b[0m\u001b[1;33m\u001b[0m\u001b[1;33m\u001b[0m\u001b[0m\n\u001b[1;32m--> 135\u001b[1;33m             \u001b[0ma\u001b[0m\u001b[1;33m.\u001b[0m\u001b[0mdraw\u001b[0m\u001b[1;33m(\u001b[0m\u001b[0mrenderer\u001b[0m\u001b[1;33m)\u001b[0m\u001b[1;33m\u001b[0m\u001b[1;33m\u001b[0m\u001b[0m\n\u001b[0m\u001b[0;32m    136\u001b[0m     \u001b[1;32melse\u001b[0m\u001b[1;33m:\u001b[0m\u001b[1;33m\u001b[0m\u001b[1;33m\u001b[0m\u001b[0m\n\u001b[0;32m    137\u001b[0m         \u001b[1;31m# Composite any adjacent images together\u001b[0m\u001b[1;33m\u001b[0m\u001b[1;33m\u001b[0m\u001b[1;33m\u001b[0m\u001b[0m\n",
      "\u001b[1;32m~\\anaconda3\\lib\\site-packages\\matplotlib\\artist.py\u001b[0m in \u001b[0;36mdraw_wrapper\u001b[1;34m(artist, renderer, *args, **kwargs)\u001b[0m\n\u001b[0;32m     36\u001b[0m                 \u001b[0mrenderer\u001b[0m\u001b[1;33m.\u001b[0m\u001b[0mstart_filter\u001b[0m\u001b[1;33m(\u001b[0m\u001b[1;33m)\u001b[0m\u001b[1;33m\u001b[0m\u001b[1;33m\u001b[0m\u001b[0m\n\u001b[0;32m     37\u001b[0m \u001b[1;33m\u001b[0m\u001b[0m\n\u001b[1;32m---> 38\u001b[1;33m             \u001b[1;32mreturn\u001b[0m \u001b[0mdraw\u001b[0m\u001b[1;33m(\u001b[0m\u001b[0martist\u001b[0m\u001b[1;33m,\u001b[0m \u001b[0mrenderer\u001b[0m\u001b[1;33m,\u001b[0m \u001b[1;33m*\u001b[0m\u001b[0margs\u001b[0m\u001b[1;33m,\u001b[0m \u001b[1;33m**\u001b[0m\u001b[0mkwargs\u001b[0m\u001b[1;33m)\u001b[0m\u001b[1;33m\u001b[0m\u001b[1;33m\u001b[0m\u001b[0m\n\u001b[0m\u001b[0;32m     39\u001b[0m         \u001b[1;32mfinally\u001b[0m\u001b[1;33m:\u001b[0m\u001b[1;33m\u001b[0m\u001b[1;33m\u001b[0m\u001b[0m\n\u001b[0;32m     40\u001b[0m             \u001b[1;32mif\u001b[0m \u001b[0martist\u001b[0m\u001b[1;33m.\u001b[0m\u001b[0mget_agg_filter\u001b[0m\u001b[1;33m(\u001b[0m\u001b[1;33m)\u001b[0m \u001b[1;32mis\u001b[0m \u001b[1;32mnot\u001b[0m \u001b[1;32mNone\u001b[0m\u001b[1;33m:\u001b[0m\u001b[1;33m\u001b[0m\u001b[1;33m\u001b[0m\u001b[0m\n",
      "\u001b[1;32m~\\anaconda3\\lib\\site-packages\\matplotlib\\axis.py\u001b[0m in \u001b[0;36mdraw\u001b[1;34m(self, renderer, *args, **kwargs)\u001b[0m\n\u001b[0;32m   1201\u001b[0m         \u001b[0mrenderer\u001b[0m\u001b[1;33m.\u001b[0m\u001b[0mopen_group\u001b[0m\u001b[1;33m(\u001b[0m\u001b[0m__name__\u001b[0m\u001b[1;33m)\u001b[0m\u001b[1;33m\u001b[0m\u001b[1;33m\u001b[0m\u001b[0m\n\u001b[0;32m   1202\u001b[0m \u001b[1;33m\u001b[0m\u001b[0m\n\u001b[1;32m-> 1203\u001b[1;33m         \u001b[0mticks_to_draw\u001b[0m \u001b[1;33m=\u001b[0m \u001b[0mself\u001b[0m\u001b[1;33m.\u001b[0m\u001b[0m_update_ticks\u001b[0m\u001b[1;33m(\u001b[0m\u001b[1;33m)\u001b[0m\u001b[1;33m\u001b[0m\u001b[1;33m\u001b[0m\u001b[0m\n\u001b[0m\u001b[0;32m   1204\u001b[0m         ticklabelBoxes, ticklabelBoxes2 = self._get_tick_bboxes(ticks_to_draw,\n\u001b[0;32m   1205\u001b[0m                                                                 renderer)\n",
      "\u001b[1;32m~\\anaconda3\\lib\\site-packages\\matplotlib\\axis.py\u001b[0m in \u001b[0;36m_update_ticks\u001b[1;34m(self)\u001b[0m\n\u001b[0;32m   1078\u001b[0m         \"\"\"\n\u001b[0;32m   1079\u001b[0m         \u001b[0mmajor_locs\u001b[0m \u001b[1;33m=\u001b[0m \u001b[0mself\u001b[0m\u001b[1;33m.\u001b[0m\u001b[0mget_majorticklocs\u001b[0m\u001b[1;33m(\u001b[0m\u001b[1;33m)\u001b[0m\u001b[1;33m\u001b[0m\u001b[1;33m\u001b[0m\u001b[0m\n\u001b[1;32m-> 1080\u001b[1;33m         \u001b[0mmajor_labels\u001b[0m \u001b[1;33m=\u001b[0m \u001b[0mself\u001b[0m\u001b[1;33m.\u001b[0m\u001b[0mmajor\u001b[0m\u001b[1;33m.\u001b[0m\u001b[0mformatter\u001b[0m\u001b[1;33m.\u001b[0m\u001b[0mformat_ticks\u001b[0m\u001b[1;33m(\u001b[0m\u001b[0mmajor_locs\u001b[0m\u001b[1;33m)\u001b[0m\u001b[1;33m\u001b[0m\u001b[1;33m\u001b[0m\u001b[0m\n\u001b[0m\u001b[0;32m   1081\u001b[0m         \u001b[0mmajor_ticks\u001b[0m \u001b[1;33m=\u001b[0m \u001b[0mself\u001b[0m\u001b[1;33m.\u001b[0m\u001b[0mget_major_ticks\u001b[0m\u001b[1;33m(\u001b[0m\u001b[0mlen\u001b[0m\u001b[1;33m(\u001b[0m\u001b[0mmajor_locs\u001b[0m\u001b[1;33m)\u001b[0m\u001b[1;33m)\u001b[0m\u001b[1;33m\u001b[0m\u001b[1;33m\u001b[0m\u001b[0m\n\u001b[0;32m   1082\u001b[0m         \u001b[0mself\u001b[0m\u001b[1;33m.\u001b[0m\u001b[0mmajor\u001b[0m\u001b[1;33m.\u001b[0m\u001b[0mformatter\u001b[0m\u001b[1;33m.\u001b[0m\u001b[0mset_locs\u001b[0m\u001b[1;33m(\u001b[0m\u001b[0mmajor_locs\u001b[0m\u001b[1;33m)\u001b[0m\u001b[1;33m\u001b[0m\u001b[1;33m\u001b[0m\u001b[0m\n",
      "\u001b[1;32m~\\anaconda3\\lib\\site-packages\\matplotlib\\ticker.py\u001b[0m in \u001b[0;36mformat_ticks\u001b[1;34m(self, values)\u001b[0m\n\u001b[0;32m    258\u001b[0m         \u001b[1;34m\"\"\"Return the tick labels for all the ticks at once.\"\"\"\u001b[0m\u001b[1;33m\u001b[0m\u001b[1;33m\u001b[0m\u001b[0m\n\u001b[0;32m    259\u001b[0m         \u001b[0mself\u001b[0m\u001b[1;33m.\u001b[0m\u001b[0mset_locs\u001b[0m\u001b[1;33m(\u001b[0m\u001b[0mvalues\u001b[0m\u001b[1;33m)\u001b[0m\u001b[1;33m\u001b[0m\u001b[1;33m\u001b[0m\u001b[0m\n\u001b[1;32m--> 260\u001b[1;33m         \u001b[1;32mreturn\u001b[0m \u001b[1;33m[\u001b[0m\u001b[0mself\u001b[0m\u001b[1;33m(\u001b[0m\u001b[0mvalue\u001b[0m\u001b[1;33m,\u001b[0m \u001b[0mi\u001b[0m\u001b[1;33m)\u001b[0m \u001b[1;32mfor\u001b[0m \u001b[0mi\u001b[0m\u001b[1;33m,\u001b[0m \u001b[0mvalue\u001b[0m \u001b[1;32min\u001b[0m \u001b[0menumerate\u001b[0m\u001b[1;33m(\u001b[0m\u001b[0mvalues\u001b[0m\u001b[1;33m)\u001b[0m\u001b[1;33m]\u001b[0m\u001b[1;33m\u001b[0m\u001b[1;33m\u001b[0m\u001b[0m\n\u001b[0m\u001b[0;32m    261\u001b[0m \u001b[1;33m\u001b[0m\u001b[0m\n\u001b[0;32m    262\u001b[0m     \u001b[1;32mdef\u001b[0m \u001b[0mformat_data\u001b[0m\u001b[1;33m(\u001b[0m\u001b[0mself\u001b[0m\u001b[1;33m,\u001b[0m \u001b[0mvalue\u001b[0m\u001b[1;33m)\u001b[0m\u001b[1;33m:\u001b[0m\u001b[1;33m\u001b[0m\u001b[1;33m\u001b[0m\u001b[0m\n",
      "\u001b[1;32m~\\anaconda3\\lib\\site-packages\\matplotlib\\ticker.py\u001b[0m in \u001b[0;36m<listcomp>\u001b[1;34m(.0)\u001b[0m\n\u001b[0;32m    258\u001b[0m         \u001b[1;34m\"\"\"Return the tick labels for all the ticks at once.\"\"\"\u001b[0m\u001b[1;33m\u001b[0m\u001b[1;33m\u001b[0m\u001b[0m\n\u001b[0;32m    259\u001b[0m         \u001b[0mself\u001b[0m\u001b[1;33m.\u001b[0m\u001b[0mset_locs\u001b[0m\u001b[1;33m(\u001b[0m\u001b[0mvalues\u001b[0m\u001b[1;33m)\u001b[0m\u001b[1;33m\u001b[0m\u001b[1;33m\u001b[0m\u001b[0m\n\u001b[1;32m--> 260\u001b[1;33m         \u001b[1;32mreturn\u001b[0m \u001b[1;33m[\u001b[0m\u001b[0mself\u001b[0m\u001b[1;33m(\u001b[0m\u001b[0mvalue\u001b[0m\u001b[1;33m,\u001b[0m \u001b[0mi\u001b[0m\u001b[1;33m)\u001b[0m \u001b[1;32mfor\u001b[0m \u001b[0mi\u001b[0m\u001b[1;33m,\u001b[0m \u001b[0mvalue\u001b[0m \u001b[1;32min\u001b[0m \u001b[0menumerate\u001b[0m\u001b[1;33m(\u001b[0m\u001b[0mvalues\u001b[0m\u001b[1;33m)\u001b[0m\u001b[1;33m]\u001b[0m\u001b[1;33m\u001b[0m\u001b[1;33m\u001b[0m\u001b[0m\n\u001b[0m\u001b[0;32m    261\u001b[0m \u001b[1;33m\u001b[0m\u001b[0m\n\u001b[0;32m    262\u001b[0m     \u001b[1;32mdef\u001b[0m \u001b[0mformat_data\u001b[0m\u001b[1;33m(\u001b[0m\u001b[0mself\u001b[0m\u001b[1;33m,\u001b[0m \u001b[0mvalue\u001b[0m\u001b[1;33m)\u001b[0m\u001b[1;33m:\u001b[0m\u001b[1;33m\u001b[0m\u001b[1;33m\u001b[0m\u001b[0m\n",
      "\u001b[1;32m~\\anaconda3\\lib\\site-packages\\matplotlib\\dates.py\u001b[0m in \u001b[0;36m__call__\u001b[1;34m(self, x, pos)\u001b[0m\n\u001b[0;32m    596\u001b[0m     \u001b[1;32mdef\u001b[0m \u001b[0m__call__\u001b[0m\u001b[1;33m(\u001b[0m\u001b[0mself\u001b[0m\u001b[1;33m,\u001b[0m \u001b[0mx\u001b[0m\u001b[1;33m,\u001b[0m \u001b[0mpos\u001b[0m\u001b[1;33m=\u001b[0m\u001b[1;36m0\u001b[0m\u001b[1;33m)\u001b[0m\u001b[1;33m:\u001b[0m\u001b[1;33m\u001b[0m\u001b[1;33m\u001b[0m\u001b[0m\n\u001b[0;32m    597\u001b[0m         \u001b[1;32mif\u001b[0m \u001b[0mx\u001b[0m \u001b[1;33m==\u001b[0m \u001b[1;36m0\u001b[0m\u001b[1;33m:\u001b[0m\u001b[1;33m\u001b[0m\u001b[1;33m\u001b[0m\u001b[0m\n\u001b[1;32m--> 598\u001b[1;33m             raise ValueError('DateFormatter found a value of x=0, which is '\n\u001b[0m\u001b[0;32m    599\u001b[0m                              \u001b[1;34m'an illegal date; this usually occurs because '\u001b[0m\u001b[1;33m\u001b[0m\u001b[1;33m\u001b[0m\u001b[0m\n\u001b[0;32m    600\u001b[0m                              \u001b[1;34m'you have not informed the axis that it is '\u001b[0m\u001b[1;33m\u001b[0m\u001b[1;33m\u001b[0m\u001b[0m\n",
      "\u001b[1;31mValueError\u001b[0m: DateFormatter found a value of x=0, which is an illegal date; this usually occurs because you have not informed the axis that it is plotting dates, e.g., with ax.xaxis_date()"
     ]
    },
    {
     "data": {
      "text/plain": [
       "<Figure size 1080x1080 with 1 Axes>"
      ]
     },
     "metadata": {
      "needs_background": "light"
     },
     "output_type": "display_data"
    }
   ],
   "source": [
    "hotspots = ['China','Germany','Iran','Italy','Spain','US','Korea, South','France','Turkey','United Kingdom','India']\n",
    "dates = list(confirmed_df.columns[4:])\n",
    "dates = list(pd.to_datetime(dates))\n",
    "dates_india = dates[8:]\n",
    "\n",
    "df1 = confirmed_df.groupby('Country/Region').sum().reset_index()\n",
    "df2 = deaths_df.groupby('Country/Region').sum().reset_index()\n",
    "df3 = recovered_df.groupby('Country/Region').sum().reset_index()\n",
    "\n",
    "global_confirmed = {}\n",
    "global_deaths = {}\n",
    "global_recovered = {}\n",
    "global_active= {}\n",
    "\n",
    "for country in hotspots:\n",
    "    k =df1[df1['Country/Region'] == country].loc[:,'1/30/20':]\n",
    "    global_confirmed[country] = k.values.tolist()[0]\n",
    "\n",
    "    k =df2[df2['Country/Region'] == country].loc[:,'1/30/20':]\n",
    "    global_deaths[country] = k.values.tolist()[0]\n",
    "\n",
    "    k =df3[df3['Country/Region'] == country].loc[:,'1/30/20':]\n",
    "    global_recovered[country] = k.values.tolist()[0]\n",
    "    \n",
    "for country in hotspots:\n",
    "    k = list(map(int.__sub__, global_confirmed[country], global_deaths[country]))\n",
    "    global_active[country] = list(map(int.__sub__, k, global_recovered[country]))\n",
    "    \n",
    "fig = plt.figure(figsize= (15,15))\n",
    "plt.suptitle('Active, Recovered, Deaths in Hotspot Countries and India as of May 15',fontsize = 20,y=1.0)\n",
    "#plt.legend()\n",
    "k=0\n",
    "for i in range(1,12):\n",
    "    ax = fig.add_subplot(6,2,i)\n",
    "    ax.xaxis.set_major_formatter(mdates.DateFormatter('%d-%b'))\n",
    "    ax.bar(dates_india,global_active[hotspots[k]],color = 'green',alpha = 0.6,label = 'Active');\n",
    "    ax.bar(dates_india,global_recovered[hotspots[k]],color='grey',label = 'Recovered');\n",
    "    ax.bar(dates_india,global_deaths[hotspots[k]],color='red',label = 'Death');   \n",
    "    plt.title(hotspots[k])\n",
    "    handles, labels = ax.get_legend_handles_labels()\n",
    "    fig.legend(handles, labels, loc='upper left')\n",
    "    k=k+1\n",
    "\n",
    "plt.tight_layout(pad=3.0)"
   ]
  },
  {
   "cell_type": "markdown",
   "metadata": {},
   "source": [
    "## 2. India Updates"
   ]
  },
  {
   "cell_type": "markdown",
   "metadata": {},
   "source": [
    "### 2.1 cases in India as of 4th May 2020 5:00 pm"
   ]
  },
  {
   "cell_type": "code",
   "execution_count": 137,
   "metadata": {},
   "outputs": [],
   "source": [
    "df = pd.read_csv('covid_19_india.csv')\n",
    "\n",
    "# prepaing data state wise\n",
    "state_cases = data_apr.groupby('State/UnionTerritory')['Confirmed','Deaths','Cured'].max().reset_index()\n",
    "state_cases['Active'] = state_cases['Confirmed'] - (state_cases['Deaths']- state_cases['Cured'])\n",
    "state_cases[\"Death Rate (per 100)\"] = np.round(100*state_cases[\"Deaths\"]/state_cases[\"Confirmed\"],2)"
   ]
  },
  {
   "cell_type": "code",
   "execution_count": 138,
   "metadata": {},
   "outputs": [
    {
     "name": "stdout",
     "output_type": "stream",
     "text": [
      "Total Confirmed Cases:  42959\n",
      "Total Deaths:  1392\n",
      "Total Cured Cases:  11762\n",
      "Death Rate (per 100):  3.24\n"
     ]
    }
   ],
   "source": [
    "print('Total Confirmed Cases: ',state_cases['Confirmed'].sum())\n",
    "print('Total Deaths: ',state_cases['Deaths'].sum())\n",
    "print('Total Cured Cases: ',state_cases['Cured'].sum())\n",
    "print('Death Rate (per 100): ',np.round(100*state_cases['Deaths'].sum()/state_cases['Confirmed'].sum(),2))"
   ]
  },
  {
   "cell_type": "markdown",
   "metadata": {},
   "source": [
    "### statewise analysis \n"
   ]
  },
  {
   "cell_type": "code",
   "execution_count": 142,
   "metadata": {},
   "outputs": [
    {
     "data": {
      "text/html": [
       "<style  type=\"text/css\" >\n",
       "    #T_3745c91e_8ecc_11ea_a25e_80c16e5be9c3row0_col1 {\n",
       "            background-color:  #662506;\n",
       "            color:  #f1f1f1;\n",
       "        }    #T_3745c91e_8ecc_11ea_a25e_80c16e5be9c3row0_col2 {\n",
       "            background-color:  #67000d;\n",
       "            color:  #f1f1f1;\n",
       "        }    #T_3745c91e_8ecc_11ea_a25e_80c16e5be9c3row0_col3 {\n",
       "            background-color:  #00441b;\n",
       "            color:  #f1f1f1;\n",
       "        }    #T_3745c91e_8ecc_11ea_a25e_80c16e5be9c3row0_col4 {\n",
       "            background-color:  #08306b;\n",
       "            color:  #f1f1f1;\n",
       "        }    #T_3745c91e_8ecc_11ea_a25e_80c16e5be9c3row0_col5 {\n",
       "            background-color:  #9d99c7;\n",
       "            color:  #000000;\n",
       "        }    #T_3745c91e_8ecc_11ea_a25e_80c16e5be9c3row1_col1 {\n",
       "            background-color:  #feb541;\n",
       "            color:  #000000;\n",
       "        }    #T_3745c91e_8ecc_11ea_a25e_80c16e5be9c3row1_col2 {\n",
       "            background-color:  #f85f43;\n",
       "            color:  #000000;\n",
       "        }    #T_3745c91e_8ecc_11ea_a25e_80c16e5be9c3row1_col3 {\n",
       "            background-color:  #76c578;\n",
       "            color:  #000000;\n",
       "        }    #T_3745c91e_8ecc_11ea_a25e_80c16e5be9c3row1_col4 {\n",
       "            background-color:  #8abfdd;\n",
       "            color:  #000000;\n",
       "        }    #T_3745c91e_8ecc_11ea_a25e_80c16e5be9c3row1_col5 {\n",
       "            background-color:  #7d77b7;\n",
       "            color:  #000000;\n",
       "        }    #T_3745c91e_8ecc_11ea_a25e_80c16e5be9c3row2_col1 {\n",
       "            background-color:  #feca5d;\n",
       "            color:  #000000;\n",
       "        }    #T_3745c91e_8ecc_11ea_a25e_80c16e5be9c3row2_col2 {\n",
       "            background-color:  #fee2d5;\n",
       "            color:  #000000;\n",
       "        }    #T_3745c91e_8ecc_11ea_a25e_80c16e5be9c3row2_col3 {\n",
       "            background-color:  #3da65a;\n",
       "            color:  #000000;\n",
       "        }    #T_3745c91e_8ecc_11ea_a25e_80c16e5be9c3row2_col4 {\n",
       "            background-color:  #94c4df;\n",
       "            color:  #000000;\n",
       "        }    #T_3745c91e_8ecc_11ea_a25e_80c16e5be9c3row2_col5 {\n",
       "            background-color:  #e8e6f2;\n",
       "            color:  #000000;\n",
       "        }    #T_3745c91e_8ecc_11ea_a25e_80c16e5be9c3row3_col1 {\n",
       "            background-color:  #fee697;\n",
       "            color:  #000000;\n",
       "        }    #T_3745c91e_8ecc_11ea_a25e_80c16e5be9c3row3_col2 {\n",
       "            background-color:  #ffece3;\n",
       "            color:  #000000;\n",
       "        }    #T_3745c91e_8ecc_11ea_a25e_80c16e5be9c3row3_col3 {\n",
       "            background-color:  #3ba458;\n",
       "            color:  #000000;\n",
       "        }    #T_3745c91e_8ecc_11ea_a25e_80c16e5be9c3row3_col4 {\n",
       "            background-color:  #b7d4ea;\n",
       "            color:  #000000;\n",
       "        }    #T_3745c91e_8ecc_11ea_a25e_80c16e5be9c3row3_col5 {\n",
       "            background-color:  #f0eef5;\n",
       "            color:  #000000;\n",
       "        }    #T_3745c91e_8ecc_11ea_a25e_80c16e5be9c3row4_col1 {\n",
       "            background-color:  #fee799;\n",
       "            color:  #000000;\n",
       "        }    #T_3745c91e_8ecc_11ea_a25e_80c16e5be9c3row4_col2 {\n",
       "            background-color:  #fcaa8d;\n",
       "            color:  #000000;\n",
       "        }    #T_3745c91e_8ecc_11ea_a25e_80c16e5be9c3row4_col3 {\n",
       "            background-color:  #a0d99b;\n",
       "            color:  #000000;\n",
       "        }    #T_3745c91e_8ecc_11ea_a25e_80c16e5be9c3row4_col4 {\n",
       "            background-color:  #c7dcef;\n",
       "            color:  #000000;\n",
       "        }    #T_3745c91e_8ecc_11ea_a25e_80c16e5be9c3row4_col5 {\n",
       "            background-color:  #776cb1;\n",
       "            color:  #000000;\n",
       "        }    #T_3745c91e_8ecc_11ea_a25e_80c16e5be9c3row5_col1 {\n",
       "            background-color:  #fee89b;\n",
       "            color:  #000000;\n",
       "        }    #T_3745c91e_8ecc_11ea_a25e_80c16e5be9c3row5_col2 {\n",
       "            background-color:  #fedfd0;\n",
       "            color:  #000000;\n",
       "        }    #T_3745c91e_8ecc_11ea_a25e_80c16e5be9c3row5_col3 {\n",
       "            background-color:  #3da65a;\n",
       "            color:  #000000;\n",
       "        }    #T_3745c91e_8ecc_11ea_a25e_80c16e5be9c3row5_col4 {\n",
       "            background-color:  #bad6eb;\n",
       "            color:  #000000;\n",
       "        }    #T_3745c91e_8ecc_11ea_a25e_80c16e5be9c3row5_col5 {\n",
       "            background-color:  #cfd0e6;\n",
       "            color:  #000000;\n",
       "        }    #T_3745c91e_8ecc_11ea_a25e_80c16e5be9c3row6_col1 {\n",
       "            background-color:  #fee99e;\n",
       "            color:  #000000;\n",
       "        }    #T_3745c91e_8ecc_11ea_a25e_80c16e5be9c3row6_col2 {\n",
       "            background-color:  #fee7dc;\n",
       "            color:  #000000;\n",
       "        }    #T_3745c91e_8ecc_11ea_a25e_80c16e5be9c3row6_col3 {\n",
       "            background-color:  #a7dba0;\n",
       "            color:  #000000;\n",
       "        }    #T_3745c91e_8ecc_11ea_a25e_80c16e5be9c3row6_col4 {\n",
       "            background-color:  #c9ddf0;\n",
       "            color:  #000000;\n",
       "        }    #T_3745c91e_8ecc_11ea_a25e_80c16e5be9c3row6_col5 {\n",
       "            background-color:  #e3e2ef;\n",
       "            color:  #000000;\n",
       "        }    #T_3745c91e_8ecc_11ea_a25e_80c16e5be9c3row7_col1 {\n",
       "            background-color:  #fff7bc;\n",
       "            color:  #000000;\n",
       "        }    #T_3745c91e_8ecc_11ea_a25e_80c16e5be9c3row7_col2 {\n",
       "            background-color:  #feeae1;\n",
       "            color:  #000000;\n",
       "        }    #T_3745c91e_8ecc_11ea_a25e_80c16e5be9c3row7_col3 {\n",
       "            background-color:  #c8e9c1;\n",
       "            color:  #000000;\n",
       "        }    #T_3745c91e_8ecc_11ea_a25e_80c16e5be9c3row7_col4 {\n",
       "            background-color:  #dae8f6;\n",
       "            color:  #000000;\n",
       "        }    #T_3745c91e_8ecc_11ea_a25e_80c16e5be9c3row7_col5 {\n",
       "            background-color:  #d8d8ea;\n",
       "            color:  #000000;\n",
       "        }    #T_3745c91e_8ecc_11ea_a25e_80c16e5be9c3row8_col1 {\n",
       "            background-color:  #fffaca;\n",
       "            color:  #000000;\n",
       "        }    #T_3745c91e_8ecc_11ea_a25e_80c16e5be9c3row8_col2 {\n",
       "            background-color:  #ffefe8;\n",
       "            color:  #000000;\n",
       "        }    #T_3745c91e_8ecc_11ea_a25e_80c16e5be9c3row8_col3 {\n",
       "            background-color:  #eff9ec;\n",
       "            color:  #000000;\n",
       "        }    #T_3745c91e_8ecc_11ea_a25e_80c16e5be9c3row8_col4 {\n",
       "            background-color:  #e7f0fa;\n",
       "            color:  #000000;\n",
       "        }    #T_3745c91e_8ecc_11ea_a25e_80c16e5be9c3row8_col5 {\n",
       "            background-color:  #dedded;\n",
       "            color:  #000000;\n",
       "        }    #T_3745c91e_8ecc_11ea_a25e_80c16e5be9c3row9_col1 {\n",
       "            background-color:  #fffaca;\n",
       "            color:  #000000;\n",
       "        }    #T_3745c91e_8ecc_11ea_a25e_80c16e5be9c3row9_col2 {\n",
       "            background-color:  #ffece4;\n",
       "            color:  #000000;\n",
       "        }    #T_3745c91e_8ecc_11ea_a25e_80c16e5be9c3row9_col3 {\n",
       "            background-color:  #cbebc5;\n",
       "            color:  #000000;\n",
       "        }    #T_3745c91e_8ecc_11ea_a25e_80c16e5be9c3row9_col4 {\n",
       "            background-color:  #e2edf8;\n",
       "            color:  #000000;\n",
       "        }    #T_3745c91e_8ecc_11ea_a25e_80c16e5be9c3row9_col5 {\n",
       "            background-color:  #c9c9e2;\n",
       "            color:  #000000;\n",
       "        }    #T_3745c91e_8ecc_11ea_a25e_80c16e5be9c3row10_col1 {\n",
       "            background-color:  #fffacd;\n",
       "            color:  #000000;\n",
       "        }    #T_3745c91e_8ecc_11ea_a25e_80c16e5be9c3row10_col2 {\n",
       "            background-color:  #feeae1;\n",
       "            color:  #000000;\n",
       "        }    #T_3745c91e_8ecc_11ea_a25e_80c16e5be9c3row10_col3 {\n",
       "            background-color:  #edf8e9;\n",
       "            color:  #000000;\n",
       "        }    #T_3745c91e_8ecc_11ea_a25e_80c16e5be9c3row10_col4 {\n",
       "            background-color:  #e9f2fa;\n",
       "            color:  #000000;\n",
       "        }    #T_3745c91e_8ecc_11ea_a25e_80c16e5be9c3row10_col5 {\n",
       "            background-color:  #aeacd2;\n",
       "            color:  #000000;\n",
       "        }    #T_3745c91e_8ecc_11ea_a25e_80c16e5be9c3row11_col1 {\n",
       "            background-color:  #fffcd4;\n",
       "            color:  #000000;\n",
       "        }    #T_3745c91e_8ecc_11ea_a25e_80c16e5be9c3row11_col2 {\n",
       "            background-color:  #fff3ed;\n",
       "            color:  #000000;\n",
       "        }    #T_3745c91e_8ecc_11ea_a25e_80c16e5be9c3row11_col3 {\n",
       "            background-color:  #e3f4de;\n",
       "            color:  #000000;\n",
       "        }    #T_3745c91e_8ecc_11ea_a25e_80c16e5be9c3row11_col4 {\n",
       "            background-color:  #eaf2fb;\n",
       "            color:  #000000;\n",
       "        }    #T_3745c91e_8ecc_11ea_a25e_80c16e5be9c3row11_col5 {\n",
       "            background-color:  #edebf4;\n",
       "            color:  #000000;\n",
       "        }    #T_3745c91e_8ecc_11ea_a25e_80c16e5be9c3row12_col1 {\n",
       "            background-color:  #fffcd6;\n",
       "            color:  #000000;\n",
       "        }    #T_3745c91e_8ecc_11ea_a25e_80c16e5be9c3row12_col2 {\n",
       "            background-color:  #ffede5;\n",
       "            color:  #000000;\n",
       "        }    #T_3745c91e_8ecc_11ea_a25e_80c16e5be9c3row12_col3 {\n",
       "            background-color:  #e1f3dc;\n",
       "            color:  #000000;\n",
       "        }    #T_3745c91e_8ecc_11ea_a25e_80c16e5be9c3row12_col4 {\n",
       "            background-color:  #eaf3fb;\n",
       "            color:  #000000;\n",
       "        }    #T_3745c91e_8ecc_11ea_a25e_80c16e5be9c3row12_col5 {\n",
       "            background-color:  #a19eca;\n",
       "            color:  #000000;\n",
       "        }    #T_3745c91e_8ecc_11ea_a25e_80c16e5be9c3row13_col1 {\n",
       "            background-color:  #fffcd8;\n",
       "            color:  #000000;\n",
       "        }    #T_3745c91e_8ecc_11ea_a25e_80c16e5be9c3row13_col2 {\n",
       "            background-color:  #fff4ef;\n",
       "            color:  #000000;\n",
       "        }    #T_3745c91e_8ecc_11ea_a25e_80c16e5be9c3row13_col3 {\n",
       "            background-color:  #eff9eb;\n",
       "            color:  #000000;\n",
       "        }    #T_3745c91e_8ecc_11ea_a25e_80c16e5be9c3row13_col4 {\n",
       "            background-color:  #eef5fc;\n",
       "            color:  #000000;\n",
       "        }    #T_3745c91e_8ecc_11ea_a25e_80c16e5be9c3row13_col5 {\n",
       "            background-color:  #f3f1f7;\n",
       "            color:  #000000;\n",
       "        }    #T_3745c91e_8ecc_11ea_a25e_80c16e5be9c3row14_col1 {\n",
       "            background-color:  #fffdd9;\n",
       "            color:  #000000;\n",
       "        }    #T_3745c91e_8ecc_11ea_a25e_80c16e5be9c3row14_col2 {\n",
       "            background-color:  #fff4ef;\n",
       "            color:  #000000;\n",
       "        }    #T_3745c91e_8ecc_11ea_a25e_80c16e5be9c3row14_col3 {\n",
       "            background-color:  #d6efd0;\n",
       "            color:  #000000;\n",
       "        }    #T_3745c91e_8ecc_11ea_a25e_80c16e5be9c3row14_col4 {\n",
       "            background-color:  #ebf3fb;\n",
       "            color:  #000000;\n",
       "        }    #T_3745c91e_8ecc_11ea_a25e_80c16e5be9c3row14_col5 {\n",
       "            background-color:  #f2f0f7;\n",
       "            color:  #000000;\n",
       "        }    #T_3745c91e_8ecc_11ea_a25e_80c16e5be9c3row15_col1 {\n",
       "            background-color:  #fffddb;\n",
       "            color:  #000000;\n",
       "        }    #T_3745c91e_8ecc_11ea_a25e_80c16e5be9c3row15_col2 {\n",
       "            background-color:  #fff4ee;\n",
       "            color:  #000000;\n",
       "        }    #T_3745c91e_8ecc_11ea_a25e_80c16e5be9c3row15_col3 {\n",
       "            background-color:  #e7f6e2;\n",
       "            color:  #000000;\n",
       "        }    #T_3745c91e_8ecc_11ea_a25e_80c16e5be9c3row15_col4 {\n",
       "            background-color:  #eef5fc;\n",
       "            color:  #000000;\n",
       "        }    #T_3745c91e_8ecc_11ea_a25e_80c16e5be9c3row15_col5 {\n",
       "            background-color:  #eeecf4;\n",
       "            color:  #000000;\n",
       "        }    #T_3745c91e_8ecc_11ea_a25e_80c16e5be9c3row16_col1 {\n",
       "            background-color:  #fffee1;\n",
       "            color:  #000000;\n",
       "        }    #T_3745c91e_8ecc_11ea_a25e_80c16e5be9c3row16_col2 {\n",
       "            background-color:  #fff5f0;\n",
       "            color:  #000000;\n",
       "        }    #T_3745c91e_8ecc_11ea_a25e_80c16e5be9c3row16_col3 {\n",
       "            background-color:  #f3faf0;\n",
       "            color:  #000000;\n",
       "        }    #T_3745c91e_8ecc_11ea_a25e_80c16e5be9c3row16_col4 {\n",
       "            background-color:  #f5f9fe;\n",
       "            color:  #000000;\n",
       "        }    #T_3745c91e_8ecc_11ea_a25e_80c16e5be9c3row16_col5 {\n",
       "            background-color:  #f5f3f8;\n",
       "            color:  #000000;\n",
       "        }    #T_3745c91e_8ecc_11ea_a25e_80c16e5be9c3row17_col1 {\n",
       "            background-color:  #fffee2;\n",
       "            color:  #000000;\n",
       "        }    #T_3745c91e_8ecc_11ea_a25e_80c16e5be9c3row17_col2 {\n",
       "            background-color:  #fff4ef;\n",
       "            color:  #000000;\n",
       "        }    #T_3745c91e_8ecc_11ea_a25e_80c16e5be9c3row17_col3 {\n",
       "            background-color:  #f6fcf4;\n",
       "            color:  #000000;\n",
       "        }    #T_3745c91e_8ecc_11ea_a25e_80c16e5be9c3row17_col4 {\n",
       "            background-color:  #f5fafe;\n",
       "            color:  #000000;\n",
       "        }    #T_3745c91e_8ecc_11ea_a25e_80c16e5be9c3row17_col5 {\n",
       "            background-color:  #cbcbe3;\n",
       "            color:  #000000;\n",
       "        }    #T_3745c91e_8ecc_11ea_a25e_80c16e5be9c3row18_col1 {\n",
       "            background-color:  #ffffe4;\n",
       "            color:  #000000;\n",
       "        }    #T_3745c91e_8ecc_11ea_a25e_80c16e5be9c3row18_col2 {\n",
       "            background-color:  #fff5f0;\n",
       "            color:  #000000;\n",
       "        }    #T_3745c91e_8ecc_11ea_a25e_80c16e5be9c3row18_col3 {\n",
       "            background-color:  #f6fcf4;\n",
       "            color:  #000000;\n",
       "        }    #T_3745c91e_8ecc_11ea_a25e_80c16e5be9c3row18_col4 {\n",
       "            background-color:  #f6faff;\n",
       "            color:  #000000;\n",
       "        }    #T_3745c91e_8ecc_11ea_a25e_80c16e5be9c3row18_col5 {\n",
       "            background-color:  #fcfbfd;\n",
       "            color:  #000000;\n",
       "        }    #T_3745c91e_8ecc_11ea_a25e_80c16e5be9c3row19_col1 {\n",
       "            background-color:  #ffffe4;\n",
       "            color:  #000000;\n",
       "        }    #T_3745c91e_8ecc_11ea_a25e_80c16e5be9c3row19_col2 {\n",
       "            background-color:  #fff5f0;\n",
       "            color:  #000000;\n",
       "        }    #T_3745c91e_8ecc_11ea_a25e_80c16e5be9c3row19_col3 {\n",
       "            background-color:  #f7fcf5;\n",
       "            color:  #000000;\n",
       "        }    #T_3745c91e_8ecc_11ea_a25e_80c16e5be9c3row19_col4 {\n",
       "            background-color:  #f6faff;\n",
       "            color:  #000000;\n",
       "        }    #T_3745c91e_8ecc_11ea_a25e_80c16e5be9c3row19_col5 {\n",
       "            background-color:  #fcfbfd;\n",
       "            color:  #000000;\n",
       "        }    #T_3745c91e_8ecc_11ea_a25e_80c16e5be9c3row20_col1 {\n",
       "            background-color:  #ffffe4;\n",
       "            color:  #000000;\n",
       "        }    #T_3745c91e_8ecc_11ea_a25e_80c16e5be9c3row20_col2 {\n",
       "            background-color:  #fff5f0;\n",
       "            color:  #000000;\n",
       "        }    #T_3745c91e_8ecc_11ea_a25e_80c16e5be9c3row20_col3 {\n",
       "            background-color:  #f5fbf2;\n",
       "            color:  #000000;\n",
       "        }    #T_3745c91e_8ecc_11ea_a25e_80c16e5be9c3row20_col4 {\n",
       "            background-color:  #f6faff;\n",
       "            color:  #000000;\n",
       "        }    #T_3745c91e_8ecc_11ea_a25e_80c16e5be9c3row20_col5 {\n",
       "            background-color:  #e2e2ef;\n",
       "            color:  #000000;\n",
       "        }    #T_3745c91e_8ecc_11ea_a25e_80c16e5be9c3row21_col1 {\n",
       "            background-color:  #ffffe4;\n",
       "            color:  #000000;\n",
       "        }    #T_3745c91e_8ecc_11ea_a25e_80c16e5be9c3row21_col2 {\n",
       "            background-color:  #fff5f0;\n",
       "            color:  #000000;\n",
       "        }    #T_3745c91e_8ecc_11ea_a25e_80c16e5be9c3row21_col3 {\n",
       "            background-color:  #f5fbf2;\n",
       "            color:  #000000;\n",
       "        }    #T_3745c91e_8ecc_11ea_a25e_80c16e5be9c3row21_col4 {\n",
       "            background-color:  #f6faff;\n",
       "            color:  #000000;\n",
       "        }    #T_3745c91e_8ecc_11ea_a25e_80c16e5be9c3row21_col5 {\n",
       "            background-color:  #fcfbfd;\n",
       "            color:  #000000;\n",
       "        }    #T_3745c91e_8ecc_11ea_a25e_80c16e5be9c3row22_col1 {\n",
       "            background-color:  #ffffe5;\n",
       "            color:  #000000;\n",
       "        }    #T_3745c91e_8ecc_11ea_a25e_80c16e5be9c3row22_col2 {\n",
       "            background-color:  #fff4ef;\n",
       "            color:  #000000;\n",
       "        }    #T_3745c91e_8ecc_11ea_a25e_80c16e5be9c3row22_col3 {\n",
       "            background-color:  #f7fcf5;\n",
       "            color:  #000000;\n",
       "        }    #T_3745c91e_8ecc_11ea_a25e_80c16e5be9c3row22_col4 {\n",
       "            background-color:  #f7fbff;\n",
       "            color:  #000000;\n",
       "        }    #T_3745c91e_8ecc_11ea_a25e_80c16e5be9c3row22_col5 {\n",
       "            background-color:  #61409b;\n",
       "            color:  #f1f1f1;\n",
       "        }    #T_3745c91e_8ecc_11ea_a25e_80c16e5be9c3row23_col1 {\n",
       "            background-color:  #ffffe5;\n",
       "            color:  #000000;\n",
       "        }    #T_3745c91e_8ecc_11ea_a25e_80c16e5be9c3row23_col2 {\n",
       "            background-color:  #fff5f0;\n",
       "            color:  #000000;\n",
       "        }    #T_3745c91e_8ecc_11ea_a25e_80c16e5be9c3row23_col3 {\n",
       "            background-color:  #f5fbf3;\n",
       "            color:  #000000;\n",
       "        }    #T_3745c91e_8ecc_11ea_a25e_80c16e5be9c3row23_col4 {\n",
       "            background-color:  #f6faff;\n",
       "            color:  #000000;\n",
       "        }    #T_3745c91e_8ecc_11ea_a25e_80c16e5be9c3row23_col5 {\n",
       "            background-color:  #d3d3e8;\n",
       "            color:  #000000;\n",
       "        }    #T_3745c91e_8ecc_11ea_a25e_80c16e5be9c3row24_col1 {\n",
       "            background-color:  #ffffe5;\n",
       "            color:  #000000;\n",
       "        }    #T_3745c91e_8ecc_11ea_a25e_80c16e5be9c3row24_col2 {\n",
       "            background-color:  #fff5f0;\n",
       "            color:  #000000;\n",
       "        }    #T_3745c91e_8ecc_11ea_a25e_80c16e5be9c3row24_col3 {\n",
       "            background-color:  #f6fcf4;\n",
       "            color:  #000000;\n",
       "        }    #T_3745c91e_8ecc_11ea_a25e_80c16e5be9c3row24_col4 {\n",
       "            background-color:  #f6faff;\n",
       "            color:  #000000;\n",
       "        }    #T_3745c91e_8ecc_11ea_a25e_80c16e5be9c3row24_col5 {\n",
       "            background-color:  #fcfbfd;\n",
       "            color:  #000000;\n",
       "        }    #T_3745c91e_8ecc_11ea_a25e_80c16e5be9c3row25_col1 {\n",
       "            background-color:  #ffffe5;\n",
       "            color:  #000000;\n",
       "        }    #T_3745c91e_8ecc_11ea_a25e_80c16e5be9c3row25_col2 {\n",
       "            background-color:  #fff5f0;\n",
       "            color:  #000000;\n",
       "        }    #T_3745c91e_8ecc_11ea_a25e_80c16e5be9c3row25_col3 {\n",
       "            background-color:  #f5fbf2;\n",
       "            color:  #000000;\n",
       "        }    #T_3745c91e_8ecc_11ea_a25e_80c16e5be9c3row25_col4 {\n",
       "            background-color:  #f6faff;\n",
       "            color:  #000000;\n",
       "        }    #T_3745c91e_8ecc_11ea_a25e_80c16e5be9c3row25_col5 {\n",
       "            background-color:  #cecfe5;\n",
       "            color:  #000000;\n",
       "        }    #T_3745c91e_8ecc_11ea_a25e_80c16e5be9c3row26_col1 {\n",
       "            background-color:  #ffffe5;\n",
       "            color:  #000000;\n",
       "        }    #T_3745c91e_8ecc_11ea_a25e_80c16e5be9c3row26_col2 {\n",
       "            background-color:  #fff5f0;\n",
       "            color:  #000000;\n",
       "        }    #T_3745c91e_8ecc_11ea_a25e_80c16e5be9c3row26_col3 {\n",
       "            background-color:  #f5fbf3;\n",
       "            color:  #000000;\n",
       "        }    #T_3745c91e_8ecc_11ea_a25e_80c16e5be9c3row26_col4 {\n",
       "            background-color:  #f6faff;\n",
       "            color:  #000000;\n",
       "        }    #T_3745c91e_8ecc_11ea_a25e_80c16e5be9c3row26_col5 {\n",
       "            background-color:  #fcfbfd;\n",
       "            color:  #000000;\n",
       "        }    #T_3745c91e_8ecc_11ea_a25e_80c16e5be9c3row27_col1 {\n",
       "            background-color:  #ffffe5;\n",
       "            color:  #000000;\n",
       "        }    #T_3745c91e_8ecc_11ea_a25e_80c16e5be9c3row27_col2 {\n",
       "            background-color:  #fff5f0;\n",
       "            color:  #000000;\n",
       "        }    #T_3745c91e_8ecc_11ea_a25e_80c16e5be9c3row27_col3 {\n",
       "            background-color:  #f7fcf5;\n",
       "            color:  #000000;\n",
       "        }    #T_3745c91e_8ecc_11ea_a25e_80c16e5be9c3row27_col4 {\n",
       "            background-color:  #f7fbff;\n",
       "            color:  #000000;\n",
       "        }    #T_3745c91e_8ecc_11ea_a25e_80c16e5be9c3row27_col5 {\n",
       "            background-color:  #fcfbfd;\n",
       "            color:  #000000;\n",
       "        }    #T_3745c91e_8ecc_11ea_a25e_80c16e5be9c3row28_col1 {\n",
       "            background-color:  #ffffe5;\n",
       "            color:  #000000;\n",
       "        }    #T_3745c91e_8ecc_11ea_a25e_80c16e5be9c3row28_col2 {\n",
       "            background-color:  #fff5f0;\n",
       "            color:  #000000;\n",
       "        }    #T_3745c91e_8ecc_11ea_a25e_80c16e5be9c3row28_col3 {\n",
       "            background-color:  #f7fcf5;\n",
       "            color:  #000000;\n",
       "        }    #T_3745c91e_8ecc_11ea_a25e_80c16e5be9c3row28_col4 {\n",
       "            background-color:  #f7fbff;\n",
       "            color:  #000000;\n",
       "        }    #T_3745c91e_8ecc_11ea_a25e_80c16e5be9c3row28_col5 {\n",
       "            background-color:  #3f007d;\n",
       "            color:  #f1f1f1;\n",
       "        }    #T_3745c91e_8ecc_11ea_a25e_80c16e5be9c3row29_col1 {\n",
       "            background-color:  #ffffe5;\n",
       "            color:  #000000;\n",
       "        }    #T_3745c91e_8ecc_11ea_a25e_80c16e5be9c3row29_col2 {\n",
       "            background-color:  #fff5f0;\n",
       "            color:  #000000;\n",
       "        }    #T_3745c91e_8ecc_11ea_a25e_80c16e5be9c3row29_col3 {\n",
       "            background-color:  #f7fcf5;\n",
       "            color:  #000000;\n",
       "        }    #T_3745c91e_8ecc_11ea_a25e_80c16e5be9c3row29_col4 {\n",
       "            background-color:  #f7fbff;\n",
       "            color:  #000000;\n",
       "        }    #T_3745c91e_8ecc_11ea_a25e_80c16e5be9c3row29_col5 {\n",
       "            background-color:  #fcfbfd;\n",
       "            color:  #000000;\n",
       "        }    #T_3745c91e_8ecc_11ea_a25e_80c16e5be9c3row30_col1 {\n",
       "            background-color:  #ffffe5;\n",
       "            color:  #000000;\n",
       "        }    #T_3745c91e_8ecc_11ea_a25e_80c16e5be9c3row30_col2 {\n",
       "            background-color:  #fff5f0;\n",
       "            color:  #000000;\n",
       "        }    #T_3745c91e_8ecc_11ea_a25e_80c16e5be9c3row30_col3 {\n",
       "            background-color:  #f7fcf5;\n",
       "            color:  #000000;\n",
       "        }    #T_3745c91e_8ecc_11ea_a25e_80c16e5be9c3row30_col4 {\n",
       "            background-color:  #f7fbff;\n",
       "            color:  #000000;\n",
       "        }    #T_3745c91e_8ecc_11ea_a25e_80c16e5be9c3row30_col5 {\n",
       "            background-color:  #fcfbfd;\n",
       "            color:  #000000;\n",
       "        }    #T_3745c91e_8ecc_11ea_a25e_80c16e5be9c3row31_col1 {\n",
       "            background-color:  #ffffe5;\n",
       "            color:  #000000;\n",
       "        }    #T_3745c91e_8ecc_11ea_a25e_80c16e5be9c3row31_col2 {\n",
       "            background-color:  #fff5f0;\n",
       "            color:  #000000;\n",
       "        }    #T_3745c91e_8ecc_11ea_a25e_80c16e5be9c3row31_col3 {\n",
       "            background-color:  #f7fcf5;\n",
       "            color:  #000000;\n",
       "        }    #T_3745c91e_8ecc_11ea_a25e_80c16e5be9c3row31_col4 {\n",
       "            background-color:  #f7fbff;\n",
       "            color:  #000000;\n",
       "        }    #T_3745c91e_8ecc_11ea_a25e_80c16e5be9c3row31_col5 {\n",
       "            background-color:  #fcfbfd;\n",
       "            color:  #000000;\n",
       "        }    #T_3745c91e_8ecc_11ea_a25e_80c16e5be9c3row32_col1 {\n",
       "            background-color:  #ffffe5;\n",
       "            color:  #000000;\n",
       "        }    #T_3745c91e_8ecc_11ea_a25e_80c16e5be9c3row32_col2 {\n",
       "            background-color:  #fff5f0;\n",
       "            color:  #000000;\n",
       "        }    #T_3745c91e_8ecc_11ea_a25e_80c16e5be9c3row32_col3 {\n",
       "            background-color:  #f7fcf5;\n",
       "            color:  #000000;\n",
       "        }    #T_3745c91e_8ecc_11ea_a25e_80c16e5be9c3row32_col4 {\n",
       "            background-color:  #f7fbff;\n",
       "            color:  #000000;\n",
       "        }    #T_3745c91e_8ecc_11ea_a25e_80c16e5be9c3row32_col5 {\n",
       "            background-color:  #fcfbfd;\n",
       "            color:  #000000;\n",
       "        }    #T_3745c91e_8ecc_11ea_a25e_80c16e5be9c3row33_col1 {\n",
       "            background-color:  #ffffe5;\n",
       "            color:  #000000;\n",
       "        }    #T_3745c91e_8ecc_11ea_a25e_80c16e5be9c3row33_col2 {\n",
       "            background-color:  #fff5f0;\n",
       "            color:  #000000;\n",
       "        }    #T_3745c91e_8ecc_11ea_a25e_80c16e5be9c3row33_col3 {\n",
       "            background-color:  #f7fcf5;\n",
       "            color:  #000000;\n",
       "        }    #T_3745c91e_8ecc_11ea_a25e_80c16e5be9c3row33_col4 {\n",
       "            background-color:  #f7fbff;\n",
       "            color:  #000000;\n",
       "        }    #T_3745c91e_8ecc_11ea_a25e_80c16e5be9c3row33_col5 {\n",
       "            background-color:  #fcfbfd;\n",
       "            color:  #000000;\n",
       "        }    #T_3745c91e_8ecc_11ea_a25e_80c16e5be9c3row34_col1 {\n",
       "            background-color:  #ffffe5;\n",
       "            color:  #000000;\n",
       "        }    #T_3745c91e_8ecc_11ea_a25e_80c16e5be9c3row34_col2 {\n",
       "            background-color:  #fff5f0;\n",
       "            color:  #000000;\n",
       "        }    #T_3745c91e_8ecc_11ea_a25e_80c16e5be9c3row34_col3 {\n",
       "            background-color:  #f7fcf5;\n",
       "            color:  #000000;\n",
       "        }    #T_3745c91e_8ecc_11ea_a25e_80c16e5be9c3row34_col4 {\n",
       "            background-color:  #f7fbff;\n",
       "            color:  #000000;\n",
       "        }    #T_3745c91e_8ecc_11ea_a25e_80c16e5be9c3row34_col5 {\n",
       "            background-color:  #fcfbfd;\n",
       "            color:  #000000;\n",
       "        }    #T_3745c91e_8ecc_11ea_a25e_80c16e5be9c3row35_col1 {\n",
       "            background-color:  #ffffe5;\n",
       "            color:  #000000;\n",
       "        }    #T_3745c91e_8ecc_11ea_a25e_80c16e5be9c3row35_col2 {\n",
       "            background-color:  #fff5f0;\n",
       "            color:  #000000;\n",
       "        }    #T_3745c91e_8ecc_11ea_a25e_80c16e5be9c3row35_col3 {\n",
       "            background-color:  #f7fcf5;\n",
       "            color:  #000000;\n",
       "        }    #T_3745c91e_8ecc_11ea_a25e_80c16e5be9c3row35_col4 {\n",
       "            background-color:  #f7fbff;\n",
       "            color:  #000000;\n",
       "        }    #T_3745c91e_8ecc_11ea_a25e_80c16e5be9c3row35_col5 {\n",
       "            background-color:  #fcfbfd;\n",
       "            color:  #000000;\n",
       "        }</style><table id=\"T_3745c91e_8ecc_11ea_a25e_80c16e5be9c3\" ><thead>    <tr>        <th class=\"blank level0\" ></th>        <th class=\"col_heading level0 col0\" >State/UnionTerritory</th>        <th class=\"col_heading level0 col1\" >Confirmed</th>        <th class=\"col_heading level0 col2\" >Deaths</th>        <th class=\"col_heading level0 col3\" >Cured</th>        <th class=\"col_heading level0 col4\" >Active</th>        <th class=\"col_heading level0 col5\" >Death Rate (per 100)</th>    </tr></thead><tbody>\n",
       "                <tr>\n",
       "                        <th id=\"T_3745c91e_8ecc_11ea_a25e_80c16e5be9c3level0_row0\" class=\"row_heading level0 row0\" >19</th>\n",
       "                        <td id=\"T_3745c91e_8ecc_11ea_a25e_80c16e5be9c3row0_col0\" class=\"data row0 col0\" >Maharashtra</td>\n",
       "                        <td id=\"T_3745c91e_8ecc_11ea_a25e_80c16e5be9c3row0_col1\" class=\"data row0 col1\" >12974</td>\n",
       "                        <td id=\"T_3745c91e_8ecc_11ea_a25e_80c16e5be9c3row0_col2\" class=\"data row0 col2\" >548</td>\n",
       "                        <td id=\"T_3745c91e_8ecc_11ea_a25e_80c16e5be9c3row0_col3\" class=\"data row0 col3\" >2115</td>\n",
       "                        <td id=\"T_3745c91e_8ecc_11ea_a25e_80c16e5be9c3row0_col4\" class=\"data row0 col4\" >14541</td>\n",
       "                        <td id=\"T_3745c91e_8ecc_11ea_a25e_80c16e5be9c3row0_col5\" class=\"data row0 col5\" >4.220000</td>\n",
       "            </tr>\n",
       "            <tr>\n",
       "                        <th id=\"T_3745c91e_8ecc_11ea_a25e_80c16e5be9c3level0_row1\" class=\"row_heading level0 row1\" >9</th>\n",
       "                        <td id=\"T_3745c91e_8ecc_11ea_a25e_80c16e5be9c3row1_col0\" class=\"data row1 col0\" >Gujarat</td>\n",
       "                        <td id=\"T_3745c91e_8ecc_11ea_a25e_80c16e5be9c3row1_col1\" class=\"data row1 col1\" >5428</td>\n",
       "                        <td id=\"T_3745c91e_8ecc_11ea_a25e_80c16e5be9c3row1_col2\" class=\"data row1 col2\" >290</td>\n",
       "                        <td id=\"T_3745c91e_8ecc_11ea_a25e_80c16e5be9c3row1_col3\" class=\"data row1 col3\" >1042</td>\n",
       "                        <td id=\"T_3745c91e_8ecc_11ea_a25e_80c16e5be9c3row1_col4\" class=\"data row1 col4\" >6180</td>\n",
       "                        <td id=\"T_3745c91e_8ecc_11ea_a25e_80c16e5be9c3row1_col5\" class=\"data row1 col5\" >5.340000</td>\n",
       "            </tr>\n",
       "            <tr>\n",
       "                        <th id=\"T_3745c91e_8ecc_11ea_a25e_80c16e5be9c3level0_row2\" class=\"row_heading level0 row2\" >7</th>\n",
       "                        <td id=\"T_3745c91e_8ecc_11ea_a25e_80c16e5be9c3row2_col0\" class=\"data row2 col0\" >Delhi</td>\n",
       "                        <td id=\"T_3745c91e_8ecc_11ea_a25e_80c16e5be9c3row2_col1\" class=\"data row2 col1\" >4549</td>\n",
       "                        <td id=\"T_3745c91e_8ecc_11ea_a25e_80c16e5be9c3row2_col2\" class=\"data row2 col2\" >64</td>\n",
       "                        <td id=\"T_3745c91e_8ecc_11ea_a25e_80c16e5be9c3row2_col3\" class=\"data row2 col3\" >1362</td>\n",
       "                        <td id=\"T_3745c91e_8ecc_11ea_a25e_80c16e5be9c3row2_col4\" class=\"data row2 col4\" >5847</td>\n",
       "                        <td id=\"T_3745c91e_8ecc_11ea_a25e_80c16e5be9c3row2_col5\" class=\"data row2 col5\" >1.410000</td>\n",
       "            </tr>\n",
       "            <tr>\n",
       "                        <th id=\"T_3745c91e_8ecc_11ea_a25e_80c16e5be9c3level0_row3\" class=\"row_heading level0 row3\" >29</th>\n",
       "                        <td id=\"T_3745c91e_8ecc_11ea_a25e_80c16e5be9c3row3_col0\" class=\"data row3 col0\" >Tamil Nadu</td>\n",
       "                        <td id=\"T_3745c91e_8ecc_11ea_a25e_80c16e5be9c3row3_col1\" class=\"data row3 col1\" >3023</td>\n",
       "                        <td id=\"T_3745c91e_8ecc_11ea_a25e_80c16e5be9c3row3_col2\" class=\"data row3 col2\" >30</td>\n",
       "                        <td id=\"T_3745c91e_8ecc_11ea_a25e_80c16e5be9c3row3_col3\" class=\"data row3 col3\" >1379</td>\n",
       "                        <td id=\"T_3745c91e_8ecc_11ea_a25e_80c16e5be9c3row3_col4\" class=\"data row3 col4\" >4372</td>\n",
       "                        <td id=\"T_3745c91e_8ecc_11ea_a25e_80c16e5be9c3row3_col5\" class=\"data row3 col5\" >0.990000</td>\n",
       "            </tr>\n",
       "            <tr>\n",
       "                        <th id=\"T_3745c91e_8ecc_11ea_a25e_80c16e5be9c3level0_row4\" class=\"row_heading level0 row4\" >18</th>\n",
       "                        <td id=\"T_3745c91e_8ecc_11ea_a25e_80c16e5be9c3row4_col0\" class=\"data row4 col0\" >Madhya Pradesh</td>\n",
       "                        <td id=\"T_3745c91e_8ecc_11ea_a25e_80c16e5be9c3row4_col1\" class=\"data row4 col1\" >2942</td>\n",
       "                        <td id=\"T_3745c91e_8ecc_11ea_a25e_80c16e5be9c3row4_col2\" class=\"data row4 col2\" >165</td>\n",
       "                        <td id=\"T_3745c91e_8ecc_11ea_a25e_80c16e5be9c3row4_col3\" class=\"data row4 col3\" >798</td>\n",
       "                        <td id=\"T_3745c91e_8ecc_11ea_a25e_80c16e5be9c3row4_col4\" class=\"data row4 col4\" >3575</td>\n",
       "                        <td id=\"T_3745c91e_8ecc_11ea_a25e_80c16e5be9c3row4_col5\" class=\"data row4 col5\" >5.610000</td>\n",
       "            </tr>\n",
       "            <tr>\n",
       "                        <th id=\"T_3745c91e_8ecc_11ea_a25e_80c16e5be9c3level0_row5\" class=\"row_heading level0 row5\" >28</th>\n",
       "                        <td id=\"T_3745c91e_8ecc_11ea_a25e_80c16e5be9c3row5_col0\" class=\"data row5 col0\" >Rajasthan</td>\n",
       "                        <td id=\"T_3745c91e_8ecc_11ea_a25e_80c16e5be9c3row5_col1\" class=\"data row5 col1\" >2886</td>\n",
       "                        <td id=\"T_3745c91e_8ecc_11ea_a25e_80c16e5be9c3row5_col2\" class=\"data row5 col2\" >71</td>\n",
       "                        <td id=\"T_3745c91e_8ecc_11ea_a25e_80c16e5be9c3row5_col3\" class=\"data row5 col3\" >1356</td>\n",
       "                        <td id=\"T_3745c91e_8ecc_11ea_a25e_80c16e5be9c3row5_col4\" class=\"data row5 col4\" >4171</td>\n",
       "                        <td id=\"T_3745c91e_8ecc_11ea_a25e_80c16e5be9c3row5_col5\" class=\"data row5 col5\" >2.460000</td>\n",
       "            </tr>\n",
       "            <tr>\n",
       "                        <th id=\"T_3745c91e_8ecc_11ea_a25e_80c16e5be9c3level0_row6\" class=\"row_heading level0 row6\" >33</th>\n",
       "                        <td id=\"T_3745c91e_8ecc_11ea_a25e_80c16e5be9c3row6_col0\" class=\"data row6 col0\" >Uttar Pradesh</td>\n",
       "                        <td id=\"T_3745c91e_8ecc_11ea_a25e_80c16e5be9c3row6_col1\" class=\"data row6 col1\" >2742</td>\n",
       "                        <td id=\"T_3745c91e_8ecc_11ea_a25e_80c16e5be9c3row6_col2\" class=\"data row6 col2\" >45</td>\n",
       "                        <td id=\"T_3745c91e_8ecc_11ea_a25e_80c16e5be9c3row6_col3\" class=\"data row6 col3\" >758</td>\n",
       "                        <td id=\"T_3745c91e_8ecc_11ea_a25e_80c16e5be9c3row6_col4\" class=\"data row6 col4\" >3455</td>\n",
       "                        <td id=\"T_3745c91e_8ecc_11ea_a25e_80c16e5be9c3row6_col5\" class=\"data row6 col5\" >1.640000</td>\n",
       "            </tr>\n",
       "            <tr>\n",
       "                        <th id=\"T_3745c91e_8ecc_11ea_a25e_80c16e5be9c3level0_row7\" class=\"row_heading level0 row7\" >1</th>\n",
       "                        <td id=\"T_3745c91e_8ecc_11ea_a25e_80c16e5be9c3row7_col0\" class=\"data row7 col0\" >Andhra Pradesh</td>\n",
       "                        <td id=\"T_3745c91e_8ecc_11ea_a25e_80c16e5be9c3row7_col1\" class=\"data row7 col1\" >1650</td>\n",
       "                        <td id=\"T_3745c91e_8ecc_11ea_a25e_80c16e5be9c3row7_col2\" class=\"data row7 col2\" >36</td>\n",
       "                        <td id=\"T_3745c91e_8ecc_11ea_a25e_80c16e5be9c3row7_col3\" class=\"data row7 col3\" >524</td>\n",
       "                        <td id=\"T_3745c91e_8ecc_11ea_a25e_80c16e5be9c3row7_col4\" class=\"data row7 col4\" >2138</td>\n",
       "                        <td id=\"T_3745c91e_8ecc_11ea_a25e_80c16e5be9c3row7_col5\" class=\"data row7 col5\" >2.180000</td>\n",
       "            </tr>\n",
       "            <tr>\n",
       "                        <th id=\"T_3745c91e_8ecc_11ea_a25e_80c16e5be9c3level0_row8\" class=\"row_heading level0 row8\" >27</th>\n",
       "                        <td id=\"T_3745c91e_8ecc_11ea_a25e_80c16e5be9c3row8_col0\" class=\"data row8 col0\" >Punjab</td>\n",
       "                        <td id=\"T_3745c91e_8ecc_11ea_a25e_80c16e5be9c3row8_col1\" class=\"data row8 col1\" >1102</td>\n",
       "                        <td id=\"T_3745c91e_8ecc_11ea_a25e_80c16e5be9c3row8_col2\" class=\"data row8 col2\" >21</td>\n",
       "                        <td id=\"T_3745c91e_8ecc_11ea_a25e_80c16e5be9c3row8_col3\" class=\"data row8 col3\" >117</td>\n",
       "                        <td id=\"T_3745c91e_8ecc_11ea_a25e_80c16e5be9c3row8_col4\" class=\"data row8 col4\" >1198</td>\n",
       "                        <td id=\"T_3745c91e_8ecc_11ea_a25e_80c16e5be9c3row8_col5\" class=\"data row8 col5\" >1.910000</td>\n",
       "            </tr>\n",
       "            <tr>\n",
       "                        <th id=\"T_3745c91e_8ecc_11ea_a25e_80c16e5be9c3level0_row9\" class=\"row_heading level0 row9\" >30</th>\n",
       "                        <td id=\"T_3745c91e_8ecc_11ea_a25e_80c16e5be9c3row9_col0\" class=\"data row9 col0\" >Telengana</td>\n",
       "                        <td id=\"T_3745c91e_8ecc_11ea_a25e_80c16e5be9c3row9_col1\" class=\"data row9 col1\" >1082</td>\n",
       "                        <td id=\"T_3745c91e_8ecc_11ea_a25e_80c16e5be9c3row9_col2\" class=\"data row9 col2\" >29</td>\n",
       "                        <td id=\"T_3745c91e_8ecc_11ea_a25e_80c16e5be9c3row9_col3\" class=\"data row9 col3\" >490</td>\n",
       "                        <td id=\"T_3745c91e_8ecc_11ea_a25e_80c16e5be9c3row9_col4\" class=\"data row9 col4\" >1543</td>\n",
       "                        <td id=\"T_3745c91e_8ecc_11ea_a25e_80c16e5be9c3row9_col5\" class=\"data row9 col5\" >2.680000</td>\n",
       "            </tr>\n",
       "            <tr>\n",
       "                        <th id=\"T_3745c91e_8ecc_11ea_a25e_80c16e5be9c3level0_row10\" class=\"row_heading level0 row10\" >35</th>\n",
       "                        <td id=\"T_3745c91e_8ecc_11ea_a25e_80c16e5be9c3row10_col0\" class=\"data row10 col0\" >West Bengal</td>\n",
       "                        <td id=\"T_3745c91e_8ecc_11ea_a25e_80c16e5be9c3row10_col1\" class=\"data row10 col1\" >963</td>\n",
       "                        <td id=\"T_3745c91e_8ecc_11ea_a25e_80c16e5be9c3row10_col2\" class=\"data row10 col2\" >35</td>\n",
       "                        <td id=\"T_3745c91e_8ecc_11ea_a25e_80c16e5be9c3row10_col3\" class=\"data row10 col3\" >151</td>\n",
       "                        <td id=\"T_3745c91e_8ecc_11ea_a25e_80c16e5be9c3row10_col4\" class=\"data row10 col4\" >1079</td>\n",
       "                        <td id=\"T_3745c91e_8ecc_11ea_a25e_80c16e5be9c3row10_col5\" class=\"data row10 col5\" >3.630000</td>\n",
       "            </tr>\n",
       "            <tr>\n",
       "                        <th id=\"T_3745c91e_8ecc_11ea_a25e_80c16e5be9c3level0_row11\" class=\"row_heading level0 row11\" >12</th>\n",
       "                        <td id=\"T_3745c91e_8ecc_11ea_a25e_80c16e5be9c3row11_col0\" class=\"data row11 col0\" >Jammu and Kashmir</td>\n",
       "                        <td id=\"T_3745c91e_8ecc_11ea_a25e_80c16e5be9c3row11_col1\" class=\"data row11 col1\" >701</td>\n",
       "                        <td id=\"T_3745c91e_8ecc_11ea_a25e_80c16e5be9c3row11_col2\" class=\"data row11 col2\" >8</td>\n",
       "                        <td id=\"T_3745c91e_8ecc_11ea_a25e_80c16e5be9c3row11_col3\" class=\"data row11 col3\" >287</td>\n",
       "                        <td id=\"T_3745c91e_8ecc_11ea_a25e_80c16e5be9c3row11_col4\" class=\"data row11 col4\" >980</td>\n",
       "                        <td id=\"T_3745c91e_8ecc_11ea_a25e_80c16e5be9c3row11_col5\" class=\"data row11 col5\" >1.140000</td>\n",
       "            </tr>\n",
       "            <tr>\n",
       "                        <th id=\"T_3745c91e_8ecc_11ea_a25e_80c16e5be9c3level0_row12\" class=\"row_heading level0 row12\" >15</th>\n",
       "                        <td id=\"T_3745c91e_8ecc_11ea_a25e_80c16e5be9c3row12_col0\" class=\"data row12 col0\" >Karnataka</td>\n",
       "                        <td id=\"T_3745c91e_8ecc_11ea_a25e_80c16e5be9c3row12_col1\" class=\"data row12 col1\" >642</td>\n",
       "                        <td id=\"T_3745c91e_8ecc_11ea_a25e_80c16e5be9c3row12_col2\" class=\"data row12 col2\" >26</td>\n",
       "                        <td id=\"T_3745c91e_8ecc_11ea_a25e_80c16e5be9c3row12_col3\" class=\"data row12 col3\" >304</td>\n",
       "                        <td id=\"T_3745c91e_8ecc_11ea_a25e_80c16e5be9c3row12_col4\" class=\"data row12 col4\" >920</td>\n",
       "                        <td id=\"T_3745c91e_8ecc_11ea_a25e_80c16e5be9c3row12_col5\" class=\"data row12 col5\" >4.050000</td>\n",
       "            </tr>\n",
       "            <tr>\n",
       "                        <th id=\"T_3745c91e_8ecc_11ea_a25e_80c16e5be9c3level0_row13\" class=\"row_heading level0 row13\" >4</th>\n",
       "                        <td id=\"T_3745c91e_8ecc_11ea_a25e_80c16e5be9c3row13_col0\" class=\"data row13 col0\" >Bihar</td>\n",
       "                        <td id=\"T_3745c91e_8ecc_11ea_a25e_80c16e5be9c3row13_col1\" class=\"data row13 col1\" >517</td>\n",
       "                        <td id=\"T_3745c91e_8ecc_11ea_a25e_80c16e5be9c3row13_col2\" class=\"data row13 col2\" >4</td>\n",
       "                        <td id=\"T_3745c91e_8ecc_11ea_a25e_80c16e5be9c3row13_col3\" class=\"data row13 col3\" >125</td>\n",
       "                        <td id=\"T_3745c91e_8ecc_11ea_a25e_80c16e5be9c3row13_col4\" class=\"data row13 col4\" >638</td>\n",
       "                        <td id=\"T_3745c91e_8ecc_11ea_a25e_80c16e5be9c3row13_col5\" class=\"data row13 col5\" >0.770000</td>\n",
       "            </tr>\n",
       "            <tr>\n",
       "                        <th id=\"T_3745c91e_8ecc_11ea_a25e_80c16e5be9c3level0_row14\" class=\"row_heading level0 row14\" >16</th>\n",
       "                        <td id=\"T_3745c91e_8ecc_11ea_a25e_80c16e5be9c3row14_col0\" class=\"data row14 col0\" >Kerala</td>\n",
       "                        <td id=\"T_3745c91e_8ecc_11ea_a25e_80c16e5be9c3row14_col1\" class=\"data row14 col1\" >500</td>\n",
       "                        <td id=\"T_3745c91e_8ecc_11ea_a25e_80c16e5be9c3row14_col2\" class=\"data row14 col2\" >4</td>\n",
       "                        <td id=\"T_3745c91e_8ecc_11ea_a25e_80c16e5be9c3row14_col3\" class=\"data row14 col3\" >401</td>\n",
       "                        <td id=\"T_3745c91e_8ecc_11ea_a25e_80c16e5be9c3row14_col4\" class=\"data row14 col4\" >897</td>\n",
       "                        <td id=\"T_3745c91e_8ecc_11ea_a25e_80c16e5be9c3row14_col5\" class=\"data row14 col5\" >0.800000</td>\n",
       "            </tr>\n",
       "            <tr>\n",
       "                        <th id=\"T_3745c91e_8ecc_11ea_a25e_80c16e5be9c3level0_row15\" class=\"row_heading level0 row15\" >10</th>\n",
       "                        <td id=\"T_3745c91e_8ecc_11ea_a25e_80c16e5be9c3row15_col0\" class=\"data row15 col0\" >Haryana</td>\n",
       "                        <td id=\"T_3745c91e_8ecc_11ea_a25e_80c16e5be9c3row15_col1\" class=\"data row15 col1\" >442</td>\n",
       "                        <td id=\"T_3745c91e_8ecc_11ea_a25e_80c16e5be9c3row15_col2\" class=\"data row15 col2\" >5</td>\n",
       "                        <td id=\"T_3745c91e_8ecc_11ea_a25e_80c16e5be9c3row15_col3\" class=\"data row15 col3\" >245</td>\n",
       "                        <td id=\"T_3745c91e_8ecc_11ea_a25e_80c16e5be9c3row15_col4\" class=\"data row15 col4\" >682</td>\n",
       "                        <td id=\"T_3745c91e_8ecc_11ea_a25e_80c16e5be9c3row15_col5\" class=\"data row15 col5\" >1.130000</td>\n",
       "            </tr>\n",
       "            <tr>\n",
       "                        <th id=\"T_3745c91e_8ecc_11ea_a25e_80c16e5be9c3level0_row16\" class=\"row_heading level0 row16\" >25</th>\n",
       "                        <td id=\"T_3745c91e_8ecc_11ea_a25e_80c16e5be9c3row16_col0\" class=\"data row16 col0\" >Odisha</td>\n",
       "                        <td id=\"T_3745c91e_8ecc_11ea_a25e_80c16e5be9c3row16_col1\" class=\"data row16 col1\" >163</td>\n",
       "                        <td id=\"T_3745c91e_8ecc_11ea_a25e_80c16e5be9c3row16_col2\" class=\"data row16 col2\" >1</td>\n",
       "                        <td id=\"T_3745c91e_8ecc_11ea_a25e_80c16e5be9c3row16_col3\" class=\"data row16 col3\" >60</td>\n",
       "                        <td id=\"T_3745c91e_8ecc_11ea_a25e_80c16e5be9c3row16_col4\" class=\"data row16 col4\" >222</td>\n",
       "                        <td id=\"T_3745c91e_8ecc_11ea_a25e_80c16e5be9c3row16_col5\" class=\"data row16 col5\" >0.610000</td>\n",
       "            </tr>\n",
       "            <tr>\n",
       "                        <th id=\"T_3745c91e_8ecc_11ea_a25e_80c16e5be9c3level0_row17\" class=\"row_heading level0 row17\" >13</th>\n",
       "                        <td id=\"T_3745c91e_8ecc_11ea_a25e_80c16e5be9c3row17_col0\" class=\"data row17 col0\" >Jharkhand</td>\n",
       "                        <td id=\"T_3745c91e_8ecc_11ea_a25e_80c16e5be9c3row17_col1\" class=\"data row17 col1\" >115</td>\n",
       "                        <td id=\"T_3745c91e_8ecc_11ea_a25e_80c16e5be9c3row17_col2\" class=\"data row17 col2\" >3</td>\n",
       "                        <td id=\"T_3745c91e_8ecc_11ea_a25e_80c16e5be9c3row17_col3\" class=\"data row17 col3\" >22</td>\n",
       "                        <td id=\"T_3745c91e_8ecc_11ea_a25e_80c16e5be9c3row17_col4\" class=\"data row17 col4\" >134</td>\n",
       "                        <td id=\"T_3745c91e_8ecc_11ea_a25e_80c16e5be9c3row17_col5\" class=\"data row17 col5\" >2.610000</td>\n",
       "            </tr>\n",
       "            <tr>\n",
       "                        <th id=\"T_3745c91e_8ecc_11ea_a25e_80c16e5be9c3level0_row18\" class=\"row_heading level0 row18\" >5</th>\n",
       "                        <td id=\"T_3745c91e_8ecc_11ea_a25e_80c16e5be9c3row18_col0\" class=\"data row18 col0\" >Chandigarh</td>\n",
       "                        <td id=\"T_3745c91e_8ecc_11ea_a25e_80c16e5be9c3row18_col1\" class=\"data row18 col1\" >94</td>\n",
       "                        <td id=\"T_3745c91e_8ecc_11ea_a25e_80c16e5be9c3row18_col2\" class=\"data row18 col2\" >0</td>\n",
       "                        <td id=\"T_3745c91e_8ecc_11ea_a25e_80c16e5be9c3row18_col3\" class=\"data row18 col3\" >19</td>\n",
       "                        <td id=\"T_3745c91e_8ecc_11ea_a25e_80c16e5be9c3row18_col4\" class=\"data row18 col4\" >113</td>\n",
       "                        <td id=\"T_3745c91e_8ecc_11ea_a25e_80c16e5be9c3row18_col5\" class=\"data row18 col5\" >0.000000</td>\n",
       "            </tr>\n",
       "            <tr>\n",
       "                        <th id=\"T_3745c91e_8ecc_11ea_a25e_80c16e5be9c3level0_row19\" class=\"row_heading level0 row19\" >32</th>\n",
       "                        <td id=\"T_3745c91e_8ecc_11ea_a25e_80c16e5be9c3row19_col0\" class=\"data row19 col0\" >Unassigned</td>\n",
       "                        <td id=\"T_3745c91e_8ecc_11ea_a25e_80c16e5be9c3row19_col1\" class=\"data row19 col1\" >77</td>\n",
       "                        <td id=\"T_3745c91e_8ecc_11ea_a25e_80c16e5be9c3row19_col2\" class=\"data row19 col2\" >0</td>\n",
       "                        <td id=\"T_3745c91e_8ecc_11ea_a25e_80c16e5be9c3row19_col3\" class=\"data row19 col3\" >0</td>\n",
       "                        <td id=\"T_3745c91e_8ecc_11ea_a25e_80c16e5be9c3row19_col4\" class=\"data row19 col4\" >77</td>\n",
       "                        <td id=\"T_3745c91e_8ecc_11ea_a25e_80c16e5be9c3row19_col5\" class=\"data row19 col5\" >0.000000</td>\n",
       "            </tr>\n",
       "            <tr>\n",
       "                        <th id=\"T_3745c91e_8ecc_11ea_a25e_80c16e5be9c3level0_row20\" class=\"row_heading level0 row20\" >34</th>\n",
       "                        <td id=\"T_3745c91e_8ecc_11ea_a25e_80c16e5be9c3row20_col0\" class=\"data row20 col0\" >Uttarakhand</td>\n",
       "                        <td id=\"T_3745c91e_8ecc_11ea_a25e_80c16e5be9c3row20_col1\" class=\"data row20 col1\" >60</td>\n",
       "                        <td id=\"T_3745c91e_8ecc_11ea_a25e_80c16e5be9c3row20_col2\" class=\"data row20 col2\" >1</td>\n",
       "                        <td id=\"T_3745c91e_8ecc_11ea_a25e_80c16e5be9c3row20_col3\" class=\"data row20 col3\" >39</td>\n",
       "                        <td id=\"T_3745c91e_8ecc_11ea_a25e_80c16e5be9c3row20_col4\" class=\"data row20 col4\" >98</td>\n",
       "                        <td id=\"T_3745c91e_8ecc_11ea_a25e_80c16e5be9c3row20_col5\" class=\"data row20 col5\" >1.670000</td>\n",
       "            </tr>\n",
       "            <tr>\n",
       "                        <th id=\"T_3745c91e_8ecc_11ea_a25e_80c16e5be9c3level0_row21\" class=\"row_heading level0 row21\" >6</th>\n",
       "                        <td id=\"T_3745c91e_8ecc_11ea_a25e_80c16e5be9c3row21_col0\" class=\"data row21 col0\" >Chhattisgarh</td>\n",
       "                        <td id=\"T_3745c91e_8ecc_11ea_a25e_80c16e5be9c3row21_col1\" class=\"data row21 col1\" >57</td>\n",
       "                        <td id=\"T_3745c91e_8ecc_11ea_a25e_80c16e5be9c3row21_col2\" class=\"data row21 col2\" >0</td>\n",
       "                        <td id=\"T_3745c91e_8ecc_11ea_a25e_80c16e5be9c3row21_col3\" class=\"data row21 col3\" >36</td>\n",
       "                        <td id=\"T_3745c91e_8ecc_11ea_a25e_80c16e5be9c3row21_col4\" class=\"data row21 col4\" >93</td>\n",
       "                        <td id=\"T_3745c91e_8ecc_11ea_a25e_80c16e5be9c3row21_col5\" class=\"data row21 col5\" >0.000000</td>\n",
       "            </tr>\n",
       "            <tr>\n",
       "                        <th id=\"T_3745c91e_8ecc_11ea_a25e_80c16e5be9c3level0_row22\" class=\"row_heading level0 row22\" >14</th>\n",
       "                        <td id=\"T_3745c91e_8ecc_11ea_a25e_80c16e5be9c3row22_col0\" class=\"data row22 col0\" >Jharkhand#</td>\n",
       "                        <td id=\"T_3745c91e_8ecc_11ea_a25e_80c16e5be9c3row22_col1\" class=\"data row22 col1\" >45</td>\n",
       "                        <td id=\"T_3745c91e_8ecc_11ea_a25e_80c16e5be9c3row22_col2\" class=\"data row22 col2\" >3</td>\n",
       "                        <td id=\"T_3745c91e_8ecc_11ea_a25e_80c16e5be9c3row22_col3\" class=\"data row22 col3\" >0</td>\n",
       "                        <td id=\"T_3745c91e_8ecc_11ea_a25e_80c16e5be9c3row22_col4\" class=\"data row22 col4\" >42</td>\n",
       "                        <td id=\"T_3745c91e_8ecc_11ea_a25e_80c16e5be9c3row22_col5\" class=\"data row22 col5\" >6.670000</td>\n",
       "            </tr>\n",
       "            <tr>\n",
       "                        <th id=\"T_3745c91e_8ecc_11ea_a25e_80c16e5be9c3level0_row23\" class=\"row_heading level0 row23\" >3</th>\n",
       "                        <td id=\"T_3745c91e_8ecc_11ea_a25e_80c16e5be9c3row23_col0\" class=\"data row23 col0\" >Assam</td>\n",
       "                        <td id=\"T_3745c91e_8ecc_11ea_a25e_80c16e5be9c3row23_col1\" class=\"data row23 col1\" >43</td>\n",
       "                        <td id=\"T_3745c91e_8ecc_11ea_a25e_80c16e5be9c3row23_col2\" class=\"data row23 col2\" >1</td>\n",
       "                        <td id=\"T_3745c91e_8ecc_11ea_a25e_80c16e5be9c3row23_col3\" class=\"data row23 col3\" >32</td>\n",
       "                        <td id=\"T_3745c91e_8ecc_11ea_a25e_80c16e5be9c3row23_col4\" class=\"data row23 col4\" >74</td>\n",
       "                        <td id=\"T_3745c91e_8ecc_11ea_a25e_80c16e5be9c3row23_col5\" class=\"data row23 col5\" >2.330000</td>\n",
       "            </tr>\n",
       "            <tr>\n",
       "                        <th id=\"T_3745c91e_8ecc_11ea_a25e_80c16e5be9c3level0_row24\" class=\"row_heading level0 row24\" >17</th>\n",
       "                        <td id=\"T_3745c91e_8ecc_11ea_a25e_80c16e5be9c3row24_col0\" class=\"data row24 col0\" >Ladakh</td>\n",
       "                        <td id=\"T_3745c91e_8ecc_11ea_a25e_80c16e5be9c3row24_col1\" class=\"data row24 col1\" >41</td>\n",
       "                        <td id=\"T_3745c91e_8ecc_11ea_a25e_80c16e5be9c3row24_col2\" class=\"data row24 col2\" >0</td>\n",
       "                        <td id=\"T_3745c91e_8ecc_11ea_a25e_80c16e5be9c3row24_col3\" class=\"data row24 col3\" >17</td>\n",
       "                        <td id=\"T_3745c91e_8ecc_11ea_a25e_80c16e5be9c3row24_col4\" class=\"data row24 col4\" >58</td>\n",
       "                        <td id=\"T_3745c91e_8ecc_11ea_a25e_80c16e5be9c3row24_col5\" class=\"data row24 col5\" >0.000000</td>\n",
       "            </tr>\n",
       "            <tr>\n",
       "                        <th id=\"T_3745c91e_8ecc_11ea_a25e_80c16e5be9c3level0_row25\" class=\"row_heading level0 row25\" >11</th>\n",
       "                        <td id=\"T_3745c91e_8ecc_11ea_a25e_80c16e5be9c3row25_col0\" class=\"data row25 col0\" >Himachal Pradesh</td>\n",
       "                        <td id=\"T_3745c91e_8ecc_11ea_a25e_80c16e5be9c3row25_col1\" class=\"data row25 col1\" >40</td>\n",
       "                        <td id=\"T_3745c91e_8ecc_11ea_a25e_80c16e5be9c3row25_col2\" class=\"data row25 col2\" >1</td>\n",
       "                        <td id=\"T_3745c91e_8ecc_11ea_a25e_80c16e5be9c3row25_col3\" class=\"data row25 col3\" >34</td>\n",
       "                        <td id=\"T_3745c91e_8ecc_11ea_a25e_80c16e5be9c3row25_col4\" class=\"data row25 col4\" >73</td>\n",
       "                        <td id=\"T_3745c91e_8ecc_11ea_a25e_80c16e5be9c3row25_col5\" class=\"data row25 col5\" >2.500000</td>\n",
       "            </tr>\n",
       "            <tr>\n",
       "                        <th id=\"T_3745c91e_8ecc_11ea_a25e_80c16e5be9c3level0_row26\" class=\"row_heading level0 row26\" >0</th>\n",
       "                        <td id=\"T_3745c91e_8ecc_11ea_a25e_80c16e5be9c3row26_col0\" class=\"data row26 col0\" >Andaman and Nicobar Islands</td>\n",
       "                        <td id=\"T_3745c91e_8ecc_11ea_a25e_80c16e5be9c3row26_col1\" class=\"data row26 col1\" >33</td>\n",
       "                        <td id=\"T_3745c91e_8ecc_11ea_a25e_80c16e5be9c3row26_col2\" class=\"data row26 col2\" >0</td>\n",
       "                        <td id=\"T_3745c91e_8ecc_11ea_a25e_80c16e5be9c3row26_col3\" class=\"data row26 col3\" >32</td>\n",
       "                        <td id=\"T_3745c91e_8ecc_11ea_a25e_80c16e5be9c3row26_col4\" class=\"data row26 col4\" >65</td>\n",
       "                        <td id=\"T_3745c91e_8ecc_11ea_a25e_80c16e5be9c3row26_col5\" class=\"data row26 col5\" >0.000000</td>\n",
       "            </tr>\n",
       "            <tr>\n",
       "                        <th id=\"T_3745c91e_8ecc_11ea_a25e_80c16e5be9c3level0_row27\" class=\"row_heading level0 row27\" >31</th>\n",
       "                        <td id=\"T_3745c91e_8ecc_11ea_a25e_80c16e5be9c3row27_col0\" class=\"data row27 col0\" >Tripura</td>\n",
       "                        <td id=\"T_3745c91e_8ecc_11ea_a25e_80c16e5be9c3row27_col1\" class=\"data row27 col1\" >16</td>\n",
       "                        <td id=\"T_3745c91e_8ecc_11ea_a25e_80c16e5be9c3row27_col2\" class=\"data row27 col2\" >0</td>\n",
       "                        <td id=\"T_3745c91e_8ecc_11ea_a25e_80c16e5be9c3row27_col3\" class=\"data row27 col3\" >2</td>\n",
       "                        <td id=\"T_3745c91e_8ecc_11ea_a25e_80c16e5be9c3row27_col4\" class=\"data row27 col4\" >18</td>\n",
       "                        <td id=\"T_3745c91e_8ecc_11ea_a25e_80c16e5be9c3row27_col5\" class=\"data row27 col5\" >0.000000</td>\n",
       "            </tr>\n",
       "            <tr>\n",
       "                        <th id=\"T_3745c91e_8ecc_11ea_a25e_80c16e5be9c3level0_row28\" class=\"row_heading level0 row28\" >21</th>\n",
       "                        <td id=\"T_3745c91e_8ecc_11ea_a25e_80c16e5be9c3row28_col0\" class=\"data row28 col0\" >Meghalaya</td>\n",
       "                        <td id=\"T_3745c91e_8ecc_11ea_a25e_80c16e5be9c3row28_col1\" class=\"data row28 col1\" >12</td>\n",
       "                        <td id=\"T_3745c91e_8ecc_11ea_a25e_80c16e5be9c3row28_col2\" class=\"data row28 col2\" >1</td>\n",
       "                        <td id=\"T_3745c91e_8ecc_11ea_a25e_80c16e5be9c3row28_col3\" class=\"data row28 col3\" >0</td>\n",
       "                        <td id=\"T_3745c91e_8ecc_11ea_a25e_80c16e5be9c3row28_col4\" class=\"data row28 col4\" >11</td>\n",
       "                        <td id=\"T_3745c91e_8ecc_11ea_a25e_80c16e5be9c3row28_col5\" class=\"data row28 col5\" >8.330000</td>\n",
       "            </tr>\n",
       "            <tr>\n",
       "                        <th id=\"T_3745c91e_8ecc_11ea_a25e_80c16e5be9c3level0_row29\" class=\"row_heading level0 row29\" >26</th>\n",
       "                        <td id=\"T_3745c91e_8ecc_11ea_a25e_80c16e5be9c3row29_col0\" class=\"data row29 col0\" >Puducherry</td>\n",
       "                        <td id=\"T_3745c91e_8ecc_11ea_a25e_80c16e5be9c3row29_col1\" class=\"data row29 col1\" >8</td>\n",
       "                        <td id=\"T_3745c91e_8ecc_11ea_a25e_80c16e5be9c3row29_col2\" class=\"data row29 col2\" >0</td>\n",
       "                        <td id=\"T_3745c91e_8ecc_11ea_a25e_80c16e5be9c3row29_col3\" class=\"data row29 col3\" >5</td>\n",
       "                        <td id=\"T_3745c91e_8ecc_11ea_a25e_80c16e5be9c3row29_col4\" class=\"data row29 col4\" >13</td>\n",
       "                        <td id=\"T_3745c91e_8ecc_11ea_a25e_80c16e5be9c3row29_col5\" class=\"data row29 col5\" >0.000000</td>\n",
       "            </tr>\n",
       "            <tr>\n",
       "                        <th id=\"T_3745c91e_8ecc_11ea_a25e_80c16e5be9c3level0_row30\" class=\"row_heading level0 row30\" >8</th>\n",
       "                        <td id=\"T_3745c91e_8ecc_11ea_a25e_80c16e5be9c3row30_col0\" class=\"data row30 col0\" >Goa</td>\n",
       "                        <td id=\"T_3745c91e_8ecc_11ea_a25e_80c16e5be9c3row30_col1\" class=\"data row30 col1\" >7</td>\n",
       "                        <td id=\"T_3745c91e_8ecc_11ea_a25e_80c16e5be9c3row30_col2\" class=\"data row30 col2\" >0</td>\n",
       "                        <td id=\"T_3745c91e_8ecc_11ea_a25e_80c16e5be9c3row30_col3\" class=\"data row30 col3\" >7</td>\n",
       "                        <td id=\"T_3745c91e_8ecc_11ea_a25e_80c16e5be9c3row30_col4\" class=\"data row30 col4\" >14</td>\n",
       "                        <td id=\"T_3745c91e_8ecc_11ea_a25e_80c16e5be9c3row30_col5\" class=\"data row30 col5\" >0.000000</td>\n",
       "            </tr>\n",
       "            <tr>\n",
       "                        <th id=\"T_3745c91e_8ecc_11ea_a25e_80c16e5be9c3level0_row31\" class=\"row_heading level0 row31\" >20</th>\n",
       "                        <td id=\"T_3745c91e_8ecc_11ea_a25e_80c16e5be9c3row31_col0\" class=\"data row31 col0\" >Manipur</td>\n",
       "                        <td id=\"T_3745c91e_8ecc_11ea_a25e_80c16e5be9c3row31_col1\" class=\"data row31 col1\" >2</td>\n",
       "                        <td id=\"T_3745c91e_8ecc_11ea_a25e_80c16e5be9c3row31_col2\" class=\"data row31 col2\" >0</td>\n",
       "                        <td id=\"T_3745c91e_8ecc_11ea_a25e_80c16e5be9c3row31_col3\" class=\"data row31 col3\" >2</td>\n",
       "                        <td id=\"T_3745c91e_8ecc_11ea_a25e_80c16e5be9c3row31_col4\" class=\"data row31 col4\" >4</td>\n",
       "                        <td id=\"T_3745c91e_8ecc_11ea_a25e_80c16e5be9c3row31_col5\" class=\"data row31 col5\" >0.000000</td>\n",
       "            </tr>\n",
       "            <tr>\n",
       "                        <th id=\"T_3745c91e_8ecc_11ea_a25e_80c16e5be9c3level0_row32\" class=\"row_heading level0 row32\" >22</th>\n",
       "                        <td id=\"T_3745c91e_8ecc_11ea_a25e_80c16e5be9c3row32_col0\" class=\"data row32 col0\" >Mizoram</td>\n",
       "                        <td id=\"T_3745c91e_8ecc_11ea_a25e_80c16e5be9c3row32_col1\" class=\"data row32 col1\" >1</td>\n",
       "                        <td id=\"T_3745c91e_8ecc_11ea_a25e_80c16e5be9c3row32_col2\" class=\"data row32 col2\" >0</td>\n",
       "                        <td id=\"T_3745c91e_8ecc_11ea_a25e_80c16e5be9c3row32_col3\" class=\"data row32 col3\" >0</td>\n",
       "                        <td id=\"T_3745c91e_8ecc_11ea_a25e_80c16e5be9c3row32_col4\" class=\"data row32 col4\" >1</td>\n",
       "                        <td id=\"T_3745c91e_8ecc_11ea_a25e_80c16e5be9c3row32_col5\" class=\"data row32 col5\" >0.000000</td>\n",
       "            </tr>\n",
       "            <tr>\n",
       "                        <th id=\"T_3745c91e_8ecc_11ea_a25e_80c16e5be9c3level0_row33\" class=\"row_heading level0 row33\" >2</th>\n",
       "                        <td id=\"T_3745c91e_8ecc_11ea_a25e_80c16e5be9c3row33_col0\" class=\"data row33 col0\" >Arunachal Pradesh</td>\n",
       "                        <td id=\"T_3745c91e_8ecc_11ea_a25e_80c16e5be9c3row33_col1\" class=\"data row33 col1\" >1</td>\n",
       "                        <td id=\"T_3745c91e_8ecc_11ea_a25e_80c16e5be9c3row33_col2\" class=\"data row33 col2\" >0</td>\n",
       "                        <td id=\"T_3745c91e_8ecc_11ea_a25e_80c16e5be9c3row33_col3\" class=\"data row33 col3\" >1</td>\n",
       "                        <td id=\"T_3745c91e_8ecc_11ea_a25e_80c16e5be9c3row33_col4\" class=\"data row33 col4\" >2</td>\n",
       "                        <td id=\"T_3745c91e_8ecc_11ea_a25e_80c16e5be9c3row33_col5\" class=\"data row33 col5\" >0.000000</td>\n",
       "            </tr>\n",
       "            <tr>\n",
       "                        <th id=\"T_3745c91e_8ecc_11ea_a25e_80c16e5be9c3level0_row34\" class=\"row_heading level0 row34\" >23</th>\n",
       "                        <td id=\"T_3745c91e_8ecc_11ea_a25e_80c16e5be9c3row34_col0\" class=\"data row34 col0\" >Nagaland</td>\n",
       "                        <td id=\"T_3745c91e_8ecc_11ea_a25e_80c16e5be9c3row34_col1\" class=\"data row34 col1\" >1</td>\n",
       "                        <td id=\"T_3745c91e_8ecc_11ea_a25e_80c16e5be9c3row34_col2\" class=\"data row34 col2\" >0</td>\n",
       "                        <td id=\"T_3745c91e_8ecc_11ea_a25e_80c16e5be9c3row34_col3\" class=\"data row34 col3\" >0</td>\n",
       "                        <td id=\"T_3745c91e_8ecc_11ea_a25e_80c16e5be9c3row34_col4\" class=\"data row34 col4\" >1</td>\n",
       "                        <td id=\"T_3745c91e_8ecc_11ea_a25e_80c16e5be9c3row34_col5\" class=\"data row34 col5\" >0.000000</td>\n",
       "            </tr>\n",
       "            <tr>\n",
       "                        <th id=\"T_3745c91e_8ecc_11ea_a25e_80c16e5be9c3level0_row35\" class=\"row_heading level0 row35\" >24</th>\n",
       "                        <td id=\"T_3745c91e_8ecc_11ea_a25e_80c16e5be9c3row35_col0\" class=\"data row35 col0\" >Nagaland#</td>\n",
       "                        <td id=\"T_3745c91e_8ecc_11ea_a25e_80c16e5be9c3row35_col1\" class=\"data row35 col1\" >0</td>\n",
       "                        <td id=\"T_3745c91e_8ecc_11ea_a25e_80c16e5be9c3row35_col2\" class=\"data row35 col2\" >0</td>\n",
       "                        <td id=\"T_3745c91e_8ecc_11ea_a25e_80c16e5be9c3row35_col3\" class=\"data row35 col3\" >0</td>\n",
       "                        <td id=\"T_3745c91e_8ecc_11ea_a25e_80c16e5be9c3row35_col4\" class=\"data row35 col4\" >0</td>\n",
       "                        <td id=\"T_3745c91e_8ecc_11ea_a25e_80c16e5be9c3row35_col5\" class=\"data row35 col5\" >nan</td>\n",
       "            </tr>\n",
       "    </tbody></table>"
      ],
      "text/plain": [
       "<pandas.io.formats.style.Styler at 0x2163e23b308>"
      ]
     },
     "execution_count": 142,
     "metadata": {},
     "output_type": "execute_result"
    }
   ],
   "source": [
    "state_cases.sort_values('Confirmed', ascending= False).style.background_gradient(cmap='YlOrBr',subset=[\"Confirmed\"])\\\n",
    "                        .background_gradient(cmap='Reds',subset=[\"Deaths\"])\\\n",
    "                        .background_gradient(cmap='Greens',subset=[\"Cured\"])\\\n",
    "                        .background_gradient(cmap='Blues',subset=[\"Active\"])\\\n",
    "                        .background_gradient(cmap='Purples',subset=[\"Death Rate (per 100)\"])"
   ]
  },
  {
   "cell_type": "code",
   "execution_count": 147,
   "metadata": {},
   "outputs": [
    {
     "data": {
      "application/vnd.plotly.v1+json": {
       "config": {
        "plotlyServerURL": "https://plot.ly"
       },
       "data": [
        {
         "alignmentgroup": "True",
         "hovertemplate": "Cities=%{x}<br>Counts=%{y}<extra></extra>",
         "legendgroup": "Thane",
         "marker": {
          "color": "#000000"
         },
         "name": "Thane",
         "offsetgroup": "Thane",
         "opacity": 0.8,
         "orientation": "v",
         "showlegend": true,
         "textposition": "auto",
         "type": "bar",
         "x": [
          "Thane"
         ],
         "xaxis": "x",
         "y": [
          108
         ],
         "yaxis": "y"
        },
        {
         "alignmentgroup": "True",
         "hovertemplate": "Cities=%{x}<br>Counts=%{y}<extra></extra>",
         "legendgroup": "MCGM",
         "marker": {
          "color": "#001f4d"
         },
         "name": "MCGM",
         "offsetgroup": "MCGM",
         "opacity": 0.8,
         "orientation": "v",
         "showlegend": true,
         "textposition": "auto",
         "type": "bar",
         "x": [
          "MCGM"
         ],
         "xaxis": "x",
         "y": [
          108
         ],
         "yaxis": "y"
        },
        {
         "alignmentgroup": "True",
         "hovertemplate": "Cities=%{x}<br>Counts=%{y}<extra></extra>",
         "legendgroup": "Navi Mumbai",
         "marker": {
          "color": "#003786"
         },
         "name": "Navi Mumbai",
         "offsetgroup": "Navi Mumbai",
         "opacity": 0.8,
         "orientation": "v",
         "showlegend": true,
         "textposition": "auto",
         "type": "bar",
         "x": [
          "Navi Mumbai"
         ],
         "xaxis": "x",
         "y": [
          71
         ],
         "yaxis": "y"
        },
        {
         "alignmentgroup": "True",
         "hovertemplate": "Cities=%{x}<br>Counts=%{y}<extra></extra>",
         "legendgroup": "PMC",
         "marker": {
          "color": "#0e58a8"
         },
         "name": "PMC",
         "offsetgroup": "PMC",
         "opacity": 0.8,
         "orientation": "v",
         "showlegend": true,
         "textposition": "auto",
         "type": "bar",
         "x": [
          "PMC"
         ],
         "xaxis": "x",
         "y": [
          69
         ],
         "yaxis": "y"
        },
        {
         "alignmentgroup": "True",
         "hovertemplate": "Cities=%{x}<br>Counts=%{y}<extra></extra>",
         "legendgroup": "Vasai-Virar",
         "marker": {
          "color": "#217eb8"
         },
         "name": "Vasai-Virar",
         "offsetgroup": "Vasai-Virar",
         "opacity": 0.8,
         "orientation": "v",
         "showlegend": true,
         "textposition": "auto",
         "type": "bar",
         "x": [
          "Vasai-Virar"
         ],
         "xaxis": "x",
         "y": [
          61
         ],
         "yaxis": "y"
        },
        {
         "alignmentgroup": "True",
         "hovertemplate": "Cities=%{x}<br>Counts=%{y}<extra></extra>",
         "legendgroup": "Mira-Bhayandar",
         "marker": {
          "color": "#30a4ca"
         },
         "name": "Mira-Bhayandar",
         "offsetgroup": "Mira-Bhayandar",
         "opacity": 0.8,
         "orientation": "v",
         "showlegend": true,
         "textposition": "auto",
         "type": "bar",
         "x": [
          "Mira-Bhayandar"
         ],
         "xaxis": "x",
         "y": [
          53
         ],
         "yaxis": "y"
        },
        {
         "alignmentgroup": "True",
         "hovertemplate": "Cities=%{x}<br>Counts=%{y}<extra></extra>",
         "legendgroup": "Nagpur",
         "marker": {
          "color": "#54c8df"
         },
         "name": "Nagpur",
         "offsetgroup": "Nagpur",
         "opacity": 0.8,
         "orientation": "v",
         "showlegend": true,
         "textposition": "auto",
         "type": "bar",
         "x": [
          "Nagpur"
         ],
         "xaxis": "x",
         "y": [
          51
         ],
         "yaxis": "y"
        },
        {
         "alignmentgroup": "True",
         "hovertemplate": "Cities=%{x}<br>Counts=%{y}<extra></extra>",
         "legendgroup": "Kalyan-Dombivali",
         "marker": {
          "color": "#9be4ef"
         },
         "name": "Kalyan-Dombivali",
         "offsetgroup": "Kalyan-Dombivali",
         "opacity": 0.8,
         "orientation": "v",
         "showlegend": true,
         "textposition": "auto",
         "type": "bar",
         "x": [
          "Kalyan-Dombivali"
         ],
         "xaxis": "x",
         "y": [
          50
         ],
         "yaxis": "y"
        },
        {
         "alignmentgroup": "True",
         "hovertemplate": "Cities=%{x}<br>Counts=%{y}<extra></extra>",
         "legendgroup": "Bengaluru",
         "marker": {
          "color": "#e1e9d1"
         },
         "name": "Bengaluru",
         "offsetgroup": "Bengaluru",
         "opacity": 0.8,
         "orientation": "v",
         "showlegend": true,
         "textposition": "auto",
         "type": "bar",
         "x": [
          "Bengaluru"
         ],
         "xaxis": "x",
         "y": [
          47
         ],
         "yaxis": "y"
        },
        {
         "alignmentgroup": "True",
         "hovertemplate": "Cities=%{x}<br>Counts=%{y}<extra></extra>",
         "legendgroup": "Malegaon",
         "marker": {
          "color": "#f3d573"
         },
         "name": "Malegaon",
         "offsetgroup": "Malegaon",
         "opacity": 0.8,
         "orientation": "v",
         "showlegend": true,
         "textposition": "auto",
         "type": "bar",
         "x": [
          "Malegaon"
         ],
         "xaxis": "x",
         "y": [
          46
         ],
         "yaxis": "y"
        },
        {
         "alignmentgroup": "True",
         "hovertemplate": "Cities=%{x}<br>Counts=%{y}<extra></extra>",
         "legendgroup": "Mumbai",
         "marker": {
          "color": "#e7b000"
         },
         "name": "Mumbai",
         "offsetgroup": "Mumbai",
         "opacity": 0.8,
         "orientation": "v",
         "showlegend": true,
         "textposition": "auto",
         "type": "bar",
         "x": [
          "Mumbai"
         ],
         "xaxis": "x",
         "y": [
          45
         ],
         "yaxis": "y"
        },
        {
         "alignmentgroup": "True",
         "hovertemplate": "Cities=%{x}<br>Counts=%{y}<extra></extra>",
         "legendgroup": "Pimpri-Chinchwad",
         "marker": {
          "color": "#da8200"
         },
         "name": "Pimpri-Chinchwad",
         "offsetgroup": "Pimpri-Chinchwad",
         "opacity": 0.8,
         "orientation": "v",
         "showlegend": true,
         "textposition": "auto",
         "type": "bar",
         "x": [
          "Pimpri-Chinchwad"
         ],
         "xaxis": "x",
         "y": [
          45
         ],
         "yaxis": "y"
        },
        {
         "alignmentgroup": "True",
         "hovertemplate": "Cities=%{x}<br>Counts=%{y}<extra></extra>",
         "legendgroup": "Pune",
         "marker": {
          "color": "#c65400"
         },
         "name": "Pune",
         "offsetgroup": "Pune",
         "opacity": 0.8,
         "orientation": "v",
         "showlegend": true,
         "textposition": "auto",
         "type": "bar",
         "x": [
          "Pune"
         ],
         "xaxis": "x",
         "y": [
          40
         ],
         "yaxis": "y"
        },
        {
         "alignmentgroup": "True",
         "hovertemplate": "Cities=%{x}<br>Counts=%{y}<extra></extra>",
         "legendgroup": "Thane Rural",
         "marker": {
          "color": "#ac2301"
         },
         "name": "Thane Rural",
         "offsetgroup": "Thane Rural",
         "opacity": 0.8,
         "orientation": "v",
         "showlegend": true,
         "textposition": "auto",
         "type": "bar",
         "x": [
          "Thane Rural"
         ],
         "xaxis": "x",
         "y": [
          29
         ],
         "yaxis": "y"
        },
        {
         "alignmentgroup": "True",
         "hovertemplate": "Cities=%{x}<br>Counts=%{y}<extra></extra>",
         "legendgroup": "Kasaragod",
         "marker": {
          "color": "#820000"
         },
         "name": "Kasaragod",
         "offsetgroup": "Kasaragod",
         "opacity": 0.8,
         "orientation": "v",
         "showlegend": true,
         "textposition": "auto",
         "type": "bar",
         "x": [
          "Kasaragod"
         ],
         "xaxis": "x",
         "y": [
          26
         ],
         "yaxis": "y"
        }
       ],
       "layout": {
        "barmode": "relative",
        "height": 600,
        "legend": {
         "title": {
          "text": "Cities"
         },
         "tracegroupgap": 0
        },
        "template": {
         "data": {
          "bar": [
           {
            "error_x": {
             "color": "#2a3f5f"
            },
            "error_y": {
             "color": "#2a3f5f"
            },
            "marker": {
             "line": {
              "color": "white",
              "width": 0.5
             }
            },
            "type": "bar"
           }
          ],
          "barpolar": [
           {
            "marker": {
             "line": {
              "color": "white",
              "width": 0.5
             }
            },
            "type": "barpolar"
           }
          ],
          "carpet": [
           {
            "aaxis": {
             "endlinecolor": "#2a3f5f",
             "gridcolor": "#C8D4E3",
             "linecolor": "#C8D4E3",
             "minorgridcolor": "#C8D4E3",
             "startlinecolor": "#2a3f5f"
            },
            "baxis": {
             "endlinecolor": "#2a3f5f",
             "gridcolor": "#C8D4E3",
             "linecolor": "#C8D4E3",
             "minorgridcolor": "#C8D4E3",
             "startlinecolor": "#2a3f5f"
            },
            "type": "carpet"
           }
          ],
          "choropleth": [
           {
            "colorbar": {
             "outlinewidth": 0,
             "ticks": ""
            },
            "type": "choropleth"
           }
          ],
          "contour": [
           {
            "colorbar": {
             "outlinewidth": 0,
             "ticks": ""
            },
            "colorscale": [
             [
              0,
              "#0d0887"
             ],
             [
              0.1111111111111111,
              "#46039f"
             ],
             [
              0.2222222222222222,
              "#7201a8"
             ],
             [
              0.3333333333333333,
              "#9c179e"
             ],
             [
              0.4444444444444444,
              "#bd3786"
             ],
             [
              0.5555555555555556,
              "#d8576b"
             ],
             [
              0.6666666666666666,
              "#ed7953"
             ],
             [
              0.7777777777777778,
              "#fb9f3a"
             ],
             [
              0.8888888888888888,
              "#fdca26"
             ],
             [
              1,
              "#f0f921"
             ]
            ],
            "type": "contour"
           }
          ],
          "contourcarpet": [
           {
            "colorbar": {
             "outlinewidth": 0,
             "ticks": ""
            },
            "type": "contourcarpet"
           }
          ],
          "heatmap": [
           {
            "colorbar": {
             "outlinewidth": 0,
             "ticks": ""
            },
            "colorscale": [
             [
              0,
              "#0d0887"
             ],
             [
              0.1111111111111111,
              "#46039f"
             ],
             [
              0.2222222222222222,
              "#7201a8"
             ],
             [
              0.3333333333333333,
              "#9c179e"
             ],
             [
              0.4444444444444444,
              "#bd3786"
             ],
             [
              0.5555555555555556,
              "#d8576b"
             ],
             [
              0.6666666666666666,
              "#ed7953"
             ],
             [
              0.7777777777777778,
              "#fb9f3a"
             ],
             [
              0.8888888888888888,
              "#fdca26"
             ],
             [
              1,
              "#f0f921"
             ]
            ],
            "type": "heatmap"
           }
          ],
          "heatmapgl": [
           {
            "colorbar": {
             "outlinewidth": 0,
             "ticks": ""
            },
            "colorscale": [
             [
              0,
              "#0d0887"
             ],
             [
              0.1111111111111111,
              "#46039f"
             ],
             [
              0.2222222222222222,
              "#7201a8"
             ],
             [
              0.3333333333333333,
              "#9c179e"
             ],
             [
              0.4444444444444444,
              "#bd3786"
             ],
             [
              0.5555555555555556,
              "#d8576b"
             ],
             [
              0.6666666666666666,
              "#ed7953"
             ],
             [
              0.7777777777777778,
              "#fb9f3a"
             ],
             [
              0.8888888888888888,
              "#fdca26"
             ],
             [
              1,
              "#f0f921"
             ]
            ],
            "type": "heatmapgl"
           }
          ],
          "histogram": [
           {
            "marker": {
             "colorbar": {
              "outlinewidth": 0,
              "ticks": ""
             }
            },
            "type": "histogram"
           }
          ],
          "histogram2d": [
           {
            "colorbar": {
             "outlinewidth": 0,
             "ticks": ""
            },
            "colorscale": [
             [
              0,
              "#0d0887"
             ],
             [
              0.1111111111111111,
              "#46039f"
             ],
             [
              0.2222222222222222,
              "#7201a8"
             ],
             [
              0.3333333333333333,
              "#9c179e"
             ],
             [
              0.4444444444444444,
              "#bd3786"
             ],
             [
              0.5555555555555556,
              "#d8576b"
             ],
             [
              0.6666666666666666,
              "#ed7953"
             ],
             [
              0.7777777777777778,
              "#fb9f3a"
             ],
             [
              0.8888888888888888,
              "#fdca26"
             ],
             [
              1,
              "#f0f921"
             ]
            ],
            "type": "histogram2d"
           }
          ],
          "histogram2dcontour": [
           {
            "colorbar": {
             "outlinewidth": 0,
             "ticks": ""
            },
            "colorscale": [
             [
              0,
              "#0d0887"
             ],
             [
              0.1111111111111111,
              "#46039f"
             ],
             [
              0.2222222222222222,
              "#7201a8"
             ],
             [
              0.3333333333333333,
              "#9c179e"
             ],
             [
              0.4444444444444444,
              "#bd3786"
             ],
             [
              0.5555555555555556,
              "#d8576b"
             ],
             [
              0.6666666666666666,
              "#ed7953"
             ],
             [
              0.7777777777777778,
              "#fb9f3a"
             ],
             [
              0.8888888888888888,
              "#fdca26"
             ],
             [
              1,
              "#f0f921"
             ]
            ],
            "type": "histogram2dcontour"
           }
          ],
          "mesh3d": [
           {
            "colorbar": {
             "outlinewidth": 0,
             "ticks": ""
            },
            "type": "mesh3d"
           }
          ],
          "parcoords": [
           {
            "line": {
             "colorbar": {
              "outlinewidth": 0,
              "ticks": ""
             }
            },
            "type": "parcoords"
           }
          ],
          "pie": [
           {
            "automargin": true,
            "type": "pie"
           }
          ],
          "scatter": [
           {
            "marker": {
             "colorbar": {
              "outlinewidth": 0,
              "ticks": ""
             }
            },
            "type": "scatter"
           }
          ],
          "scatter3d": [
           {
            "line": {
             "colorbar": {
              "outlinewidth": 0,
              "ticks": ""
             }
            },
            "marker": {
             "colorbar": {
              "outlinewidth": 0,
              "ticks": ""
             }
            },
            "type": "scatter3d"
           }
          ],
          "scattercarpet": [
           {
            "marker": {
             "colorbar": {
              "outlinewidth": 0,
              "ticks": ""
             }
            },
            "type": "scattercarpet"
           }
          ],
          "scattergeo": [
           {
            "marker": {
             "colorbar": {
              "outlinewidth": 0,
              "ticks": ""
             }
            },
            "type": "scattergeo"
           }
          ],
          "scattergl": [
           {
            "marker": {
             "colorbar": {
              "outlinewidth": 0,
              "ticks": ""
             }
            },
            "type": "scattergl"
           }
          ],
          "scattermapbox": [
           {
            "marker": {
             "colorbar": {
              "outlinewidth": 0,
              "ticks": ""
             }
            },
            "type": "scattermapbox"
           }
          ],
          "scatterpolar": [
           {
            "marker": {
             "colorbar": {
              "outlinewidth": 0,
              "ticks": ""
             }
            },
            "type": "scatterpolar"
           }
          ],
          "scatterpolargl": [
           {
            "marker": {
             "colorbar": {
              "outlinewidth": 0,
              "ticks": ""
             }
            },
            "type": "scatterpolargl"
           }
          ],
          "scatterternary": [
           {
            "marker": {
             "colorbar": {
              "outlinewidth": 0,
              "ticks": ""
             }
            },
            "type": "scatterternary"
           }
          ],
          "surface": [
           {
            "colorbar": {
             "outlinewidth": 0,
             "ticks": ""
            },
            "colorscale": [
             [
              0,
              "#0d0887"
             ],
             [
              0.1111111111111111,
              "#46039f"
             ],
             [
              0.2222222222222222,
              "#7201a8"
             ],
             [
              0.3333333333333333,
              "#9c179e"
             ],
             [
              0.4444444444444444,
              "#bd3786"
             ],
             [
              0.5555555555555556,
              "#d8576b"
             ],
             [
              0.6666666666666666,
              "#ed7953"
             ],
             [
              0.7777777777777778,
              "#fb9f3a"
             ],
             [
              0.8888888888888888,
              "#fdca26"
             ],
             [
              1,
              "#f0f921"
             ]
            ],
            "type": "surface"
           }
          ],
          "table": [
           {
            "cells": {
             "fill": {
              "color": "#EBF0F8"
             },
             "line": {
              "color": "white"
             }
            },
            "header": {
             "fill": {
              "color": "#C8D4E3"
             },
             "line": {
              "color": "white"
             }
            },
            "type": "table"
           }
          ]
         },
         "layout": {
          "annotationdefaults": {
           "arrowcolor": "#2a3f5f",
           "arrowhead": 0,
           "arrowwidth": 1
          },
          "coloraxis": {
           "colorbar": {
            "outlinewidth": 0,
            "ticks": ""
           }
          },
          "colorscale": {
           "diverging": [
            [
             0,
             "#8e0152"
            ],
            [
             0.1,
             "#c51b7d"
            ],
            [
             0.2,
             "#de77ae"
            ],
            [
             0.3,
             "#f1b6da"
            ],
            [
             0.4,
             "#fde0ef"
            ],
            [
             0.5,
             "#f7f7f7"
            ],
            [
             0.6,
             "#e6f5d0"
            ],
            [
             0.7,
             "#b8e186"
            ],
            [
             0.8,
             "#7fbc41"
            ],
            [
             0.9,
             "#4d9221"
            ],
            [
             1,
             "#276419"
            ]
           ],
           "sequential": [
            [
             0,
             "#0d0887"
            ],
            [
             0.1111111111111111,
             "#46039f"
            ],
            [
             0.2222222222222222,
             "#7201a8"
            ],
            [
             0.3333333333333333,
             "#9c179e"
            ],
            [
             0.4444444444444444,
             "#bd3786"
            ],
            [
             0.5555555555555556,
             "#d8576b"
            ],
            [
             0.6666666666666666,
             "#ed7953"
            ],
            [
             0.7777777777777778,
             "#fb9f3a"
            ],
            [
             0.8888888888888888,
             "#fdca26"
            ],
            [
             1,
             "#f0f921"
            ]
           ],
           "sequentialminus": [
            [
             0,
             "#0d0887"
            ],
            [
             0.1111111111111111,
             "#46039f"
            ],
            [
             0.2222222222222222,
             "#7201a8"
            ],
            [
             0.3333333333333333,
             "#9c179e"
            ],
            [
             0.4444444444444444,
             "#bd3786"
            ],
            [
             0.5555555555555556,
             "#d8576b"
            ],
            [
             0.6666666666666666,
             "#ed7953"
            ],
            [
             0.7777777777777778,
             "#fb9f3a"
            ],
            [
             0.8888888888888888,
             "#fdca26"
            ],
            [
             1,
             "#f0f921"
            ]
           ]
          },
          "colorway": [
           "#636efa",
           "#EF553B",
           "#00cc96",
           "#ab63fa",
           "#FFA15A",
           "#19d3f3",
           "#FF6692",
           "#B6E880",
           "#FF97FF",
           "#FECB52"
          ],
          "font": {
           "color": "#2a3f5f"
          },
          "geo": {
           "bgcolor": "white",
           "lakecolor": "white",
           "landcolor": "white",
           "showlakes": true,
           "showland": true,
           "subunitcolor": "#C8D4E3"
          },
          "hoverlabel": {
           "align": "left"
          },
          "hovermode": "closest",
          "mapbox": {
           "style": "light"
          },
          "paper_bgcolor": "white",
          "plot_bgcolor": "white",
          "polar": {
           "angularaxis": {
            "gridcolor": "#EBF0F8",
            "linecolor": "#EBF0F8",
            "ticks": ""
           },
           "bgcolor": "white",
           "radialaxis": {
            "gridcolor": "#EBF0F8",
            "linecolor": "#EBF0F8",
            "ticks": ""
           }
          },
          "scene": {
           "xaxis": {
            "backgroundcolor": "white",
            "gridcolor": "#DFE8F3",
            "gridwidth": 2,
            "linecolor": "#EBF0F8",
            "showbackground": true,
            "ticks": "",
            "zerolinecolor": "#EBF0F8"
           },
           "yaxis": {
            "backgroundcolor": "white",
            "gridcolor": "#DFE8F3",
            "gridwidth": 2,
            "linecolor": "#EBF0F8",
            "showbackground": true,
            "ticks": "",
            "zerolinecolor": "#EBF0F8"
           },
           "zaxis": {
            "backgroundcolor": "white",
            "gridcolor": "#DFE8F3",
            "gridwidth": 2,
            "linecolor": "#EBF0F8",
            "showbackground": true,
            "ticks": "",
            "zerolinecolor": "#EBF0F8"
           }
          },
          "shapedefaults": {
           "line": {
            "color": "#2a3f5f"
           }
          },
          "ternary": {
           "aaxis": {
            "gridcolor": "#DFE8F3",
            "linecolor": "#A2B1C6",
            "ticks": ""
           },
           "baxis": {
            "gridcolor": "#DFE8F3",
            "linecolor": "#A2B1C6",
            "ticks": ""
           },
           "bgcolor": "white",
           "caxis": {
            "gridcolor": "#DFE8F3",
            "linecolor": "#A2B1C6",
            "ticks": ""
           }
          },
          "title": {
           "x": 0.05
          },
          "xaxis": {
           "automargin": true,
           "gridcolor": "#EBF0F8",
           "linecolor": "#EBF0F8",
           "ticks": "",
           "title": {
            "standoff": 15
           },
           "zerolinecolor": "#EBF0F8",
           "zerolinewidth": 2
          },
          "yaxis": {
           "automargin": true,
           "gridcolor": "#EBF0F8",
           "linecolor": "#EBF0F8",
           "ticks": "",
           "title": {
            "standoff": 15
           },
           "zerolinecolor": "#EBF0F8",
           "zerolinewidth": 2
          }
         }
        },
        "title": {
         "text": "Hotspot Cities Detected With Most cases"
        },
        "width": 700,
        "xaxis": {
         "anchor": "y",
         "categoryarray": [
          "Thane",
          "MCGM",
          "Navi Mumbai",
          "PMC",
          "Vasai-Virar",
          "Mira-Bhayandar",
          "Nagpur",
          "Kalyan-Dombivali",
          "Bengaluru",
          "Malegaon",
          "Mumbai",
          "Pimpri-Chinchwad",
          "Pune",
          "Thane Rural",
          "Kasaragod"
         ],
         "categoryorder": "array",
         "domain": [
          0,
          1
         ],
         "title": {
          "text": "Cities"
         }
        },
        "yaxis": {
         "anchor": "x",
         "domain": [
          0,
          1
         ],
         "title": {
          "text": "Counts"
         }
        }
       }
      },
      "text/html": [
       "<div>\n",
       "        \n",
       "        \n",
       "            <div id=\"437e03b9-651d-4e60-b7f9-963054b2084f\" class=\"plotly-graph-div\" style=\"height:600px; width:700px;\"></div>\n",
       "            <script type=\"text/javascript\">\n",
       "                require([\"plotly\"], function(Plotly) {\n",
       "                    window.PLOTLYENV=window.PLOTLYENV || {};\n",
       "                    \n",
       "                if (document.getElementById(\"437e03b9-651d-4e60-b7f9-963054b2084f\")) {\n",
       "                    Plotly.newPlot(\n",
       "                        '437e03b9-651d-4e60-b7f9-963054b2084f',\n",
       "                        [{\"alignmentgroup\": \"True\", \"hovertemplate\": \"Cities=%{x}<br>Counts=%{y}<extra></extra>\", \"legendgroup\": \"Thane\", \"marker\": {\"color\": \"#000000\"}, \"name\": \"Thane\", \"offsetgroup\": \"Thane\", \"opacity\": 0.8, \"orientation\": \"v\", \"showlegend\": true, \"textposition\": \"auto\", \"type\": \"bar\", \"x\": [\"Thane\"], \"xaxis\": \"x\", \"y\": [108], \"yaxis\": \"y\"}, {\"alignmentgroup\": \"True\", \"hovertemplate\": \"Cities=%{x}<br>Counts=%{y}<extra></extra>\", \"legendgroup\": \"MCGM\", \"marker\": {\"color\": \"#001f4d\"}, \"name\": \"MCGM\", \"offsetgroup\": \"MCGM\", \"opacity\": 0.8, \"orientation\": \"v\", \"showlegend\": true, \"textposition\": \"auto\", \"type\": \"bar\", \"x\": [\"MCGM\"], \"xaxis\": \"x\", \"y\": [108], \"yaxis\": \"y\"}, {\"alignmentgroup\": \"True\", \"hovertemplate\": \"Cities=%{x}<br>Counts=%{y}<extra></extra>\", \"legendgroup\": \"Navi Mumbai\", \"marker\": {\"color\": \"#003786\"}, \"name\": \"Navi Mumbai\", \"offsetgroup\": \"Navi Mumbai\", \"opacity\": 0.8, \"orientation\": \"v\", \"showlegend\": true, \"textposition\": \"auto\", \"type\": \"bar\", \"x\": [\"Navi Mumbai\"], \"xaxis\": \"x\", \"y\": [71], \"yaxis\": \"y\"}, {\"alignmentgroup\": \"True\", \"hovertemplate\": \"Cities=%{x}<br>Counts=%{y}<extra></extra>\", \"legendgroup\": \"PMC\", \"marker\": {\"color\": \"#0e58a8\"}, \"name\": \"PMC\", \"offsetgroup\": \"PMC\", \"opacity\": 0.8, \"orientation\": \"v\", \"showlegend\": true, \"textposition\": \"auto\", \"type\": \"bar\", \"x\": [\"PMC\"], \"xaxis\": \"x\", \"y\": [69], \"yaxis\": \"y\"}, {\"alignmentgroup\": \"True\", \"hovertemplate\": \"Cities=%{x}<br>Counts=%{y}<extra></extra>\", \"legendgroup\": \"Vasai-Virar\", \"marker\": {\"color\": \"#217eb8\"}, \"name\": \"Vasai-Virar\", \"offsetgroup\": \"Vasai-Virar\", \"opacity\": 0.8, \"orientation\": \"v\", \"showlegend\": true, \"textposition\": \"auto\", \"type\": \"bar\", \"x\": [\"Vasai-Virar\"], \"xaxis\": \"x\", \"y\": [61], \"yaxis\": \"y\"}, {\"alignmentgroup\": \"True\", \"hovertemplate\": \"Cities=%{x}<br>Counts=%{y}<extra></extra>\", \"legendgroup\": \"Mira-Bhayandar\", \"marker\": {\"color\": \"#30a4ca\"}, \"name\": \"Mira-Bhayandar\", \"offsetgroup\": \"Mira-Bhayandar\", \"opacity\": 0.8, \"orientation\": \"v\", \"showlegend\": true, \"textposition\": \"auto\", \"type\": \"bar\", \"x\": [\"Mira-Bhayandar\"], \"xaxis\": \"x\", \"y\": [53], \"yaxis\": \"y\"}, {\"alignmentgroup\": \"True\", \"hovertemplate\": \"Cities=%{x}<br>Counts=%{y}<extra></extra>\", \"legendgroup\": \"Nagpur\", \"marker\": {\"color\": \"#54c8df\"}, \"name\": \"Nagpur\", \"offsetgroup\": \"Nagpur\", \"opacity\": 0.8, \"orientation\": \"v\", \"showlegend\": true, \"textposition\": \"auto\", \"type\": \"bar\", \"x\": [\"Nagpur\"], \"xaxis\": \"x\", \"y\": [51], \"yaxis\": \"y\"}, {\"alignmentgroup\": \"True\", \"hovertemplate\": \"Cities=%{x}<br>Counts=%{y}<extra></extra>\", \"legendgroup\": \"Kalyan-Dombivali\", \"marker\": {\"color\": \"#9be4ef\"}, \"name\": \"Kalyan-Dombivali\", \"offsetgroup\": \"Kalyan-Dombivali\", \"opacity\": 0.8, \"orientation\": \"v\", \"showlegend\": true, \"textposition\": \"auto\", \"type\": \"bar\", \"x\": [\"Kalyan-Dombivali\"], \"xaxis\": \"x\", \"y\": [50], \"yaxis\": \"y\"}, {\"alignmentgroup\": \"True\", \"hovertemplate\": \"Cities=%{x}<br>Counts=%{y}<extra></extra>\", \"legendgroup\": \"Bengaluru\", \"marker\": {\"color\": \"#e1e9d1\"}, \"name\": \"Bengaluru\", \"offsetgroup\": \"Bengaluru\", \"opacity\": 0.8, \"orientation\": \"v\", \"showlegend\": true, \"textposition\": \"auto\", \"type\": \"bar\", \"x\": [\"Bengaluru\"], \"xaxis\": \"x\", \"y\": [47], \"yaxis\": \"y\"}, {\"alignmentgroup\": \"True\", \"hovertemplate\": \"Cities=%{x}<br>Counts=%{y}<extra></extra>\", \"legendgroup\": \"Malegaon\", \"marker\": {\"color\": \"#f3d573\"}, \"name\": \"Malegaon\", \"offsetgroup\": \"Malegaon\", \"opacity\": 0.8, \"orientation\": \"v\", \"showlegend\": true, \"textposition\": \"auto\", \"type\": \"bar\", \"x\": [\"Malegaon\"], \"xaxis\": \"x\", \"y\": [46], \"yaxis\": \"y\"}, {\"alignmentgroup\": \"True\", \"hovertemplate\": \"Cities=%{x}<br>Counts=%{y}<extra></extra>\", \"legendgroup\": \"Mumbai\", \"marker\": {\"color\": \"#e7b000\"}, \"name\": \"Mumbai\", \"offsetgroup\": \"Mumbai\", \"opacity\": 0.8, \"orientation\": \"v\", \"showlegend\": true, \"textposition\": \"auto\", \"type\": \"bar\", \"x\": [\"Mumbai\"], \"xaxis\": \"x\", \"y\": [45], \"yaxis\": \"y\"}, {\"alignmentgroup\": \"True\", \"hovertemplate\": \"Cities=%{x}<br>Counts=%{y}<extra></extra>\", \"legendgroup\": \"Pimpri-Chinchwad\", \"marker\": {\"color\": \"#da8200\"}, \"name\": \"Pimpri-Chinchwad\", \"offsetgroup\": \"Pimpri-Chinchwad\", \"opacity\": 0.8, \"orientation\": \"v\", \"showlegend\": true, \"textposition\": \"auto\", \"type\": \"bar\", \"x\": [\"Pimpri-Chinchwad\"], \"xaxis\": \"x\", \"y\": [45], \"yaxis\": \"y\"}, {\"alignmentgroup\": \"True\", \"hovertemplate\": \"Cities=%{x}<br>Counts=%{y}<extra></extra>\", \"legendgroup\": \"Pune\", \"marker\": {\"color\": \"#c65400\"}, \"name\": \"Pune\", \"offsetgroup\": \"Pune\", \"opacity\": 0.8, \"orientation\": \"v\", \"showlegend\": true, \"textposition\": \"auto\", \"type\": \"bar\", \"x\": [\"Pune\"], \"xaxis\": \"x\", \"y\": [40], \"yaxis\": \"y\"}, {\"alignmentgroup\": \"True\", \"hovertemplate\": \"Cities=%{x}<br>Counts=%{y}<extra></extra>\", \"legendgroup\": \"Thane Rural\", \"marker\": {\"color\": \"#ac2301\"}, \"name\": \"Thane Rural\", \"offsetgroup\": \"Thane Rural\", \"opacity\": 0.8, \"orientation\": \"v\", \"showlegend\": true, \"textposition\": \"auto\", \"type\": \"bar\", \"x\": [\"Thane Rural\"], \"xaxis\": \"x\", \"y\": [29], \"yaxis\": \"y\"}, {\"alignmentgroup\": \"True\", \"hovertemplate\": \"Cities=%{x}<br>Counts=%{y}<extra></extra>\", \"legendgroup\": \"Kasaragod\", \"marker\": {\"color\": \"#820000\"}, \"name\": \"Kasaragod\", \"offsetgroup\": \"Kasaragod\", \"opacity\": 0.8, \"orientation\": \"v\", \"showlegend\": true, \"textposition\": \"auto\", \"type\": \"bar\", \"x\": [\"Kasaragod\"], \"xaxis\": \"x\", \"y\": [26], \"yaxis\": \"y\"}],\n",
       "                        {\"barmode\": \"relative\", \"height\": 600, \"legend\": {\"title\": {\"text\": \"Cities\"}, \"tracegroupgap\": 0}, \"template\": {\"data\": {\"bar\": [{\"error_x\": {\"color\": \"#2a3f5f\"}, \"error_y\": {\"color\": \"#2a3f5f\"}, \"marker\": {\"line\": {\"color\": \"white\", \"width\": 0.5}}, \"type\": \"bar\"}], \"barpolar\": [{\"marker\": {\"line\": {\"color\": \"white\", \"width\": 0.5}}, \"type\": \"barpolar\"}], \"carpet\": [{\"aaxis\": {\"endlinecolor\": \"#2a3f5f\", \"gridcolor\": \"#C8D4E3\", \"linecolor\": \"#C8D4E3\", \"minorgridcolor\": \"#C8D4E3\", \"startlinecolor\": \"#2a3f5f\"}, \"baxis\": {\"endlinecolor\": \"#2a3f5f\", \"gridcolor\": \"#C8D4E3\", \"linecolor\": \"#C8D4E3\", \"minorgridcolor\": \"#C8D4E3\", \"startlinecolor\": \"#2a3f5f\"}, \"type\": \"carpet\"}], \"choropleth\": [{\"colorbar\": {\"outlinewidth\": 0, \"ticks\": \"\"}, \"type\": \"choropleth\"}], \"contour\": [{\"colorbar\": {\"outlinewidth\": 0, \"ticks\": \"\"}, \"colorscale\": [[0.0, \"#0d0887\"], [0.1111111111111111, \"#46039f\"], [0.2222222222222222, \"#7201a8\"], [0.3333333333333333, \"#9c179e\"], [0.4444444444444444, \"#bd3786\"], [0.5555555555555556, \"#d8576b\"], [0.6666666666666666, \"#ed7953\"], [0.7777777777777778, \"#fb9f3a\"], [0.8888888888888888, \"#fdca26\"], [1.0, \"#f0f921\"]], \"type\": \"contour\"}], \"contourcarpet\": [{\"colorbar\": {\"outlinewidth\": 0, \"ticks\": \"\"}, \"type\": \"contourcarpet\"}], \"heatmap\": [{\"colorbar\": {\"outlinewidth\": 0, \"ticks\": \"\"}, \"colorscale\": [[0.0, \"#0d0887\"], [0.1111111111111111, \"#46039f\"], [0.2222222222222222, \"#7201a8\"], [0.3333333333333333, \"#9c179e\"], [0.4444444444444444, \"#bd3786\"], [0.5555555555555556, \"#d8576b\"], [0.6666666666666666, \"#ed7953\"], [0.7777777777777778, \"#fb9f3a\"], [0.8888888888888888, \"#fdca26\"], [1.0, \"#f0f921\"]], \"type\": \"heatmap\"}], \"heatmapgl\": [{\"colorbar\": {\"outlinewidth\": 0, \"ticks\": \"\"}, \"colorscale\": [[0.0, \"#0d0887\"], [0.1111111111111111, \"#46039f\"], [0.2222222222222222, \"#7201a8\"], [0.3333333333333333, \"#9c179e\"], [0.4444444444444444, \"#bd3786\"], [0.5555555555555556, \"#d8576b\"], [0.6666666666666666, \"#ed7953\"], [0.7777777777777778, \"#fb9f3a\"], [0.8888888888888888, \"#fdca26\"], [1.0, \"#f0f921\"]], \"type\": \"heatmapgl\"}], \"histogram\": [{\"marker\": {\"colorbar\": {\"outlinewidth\": 0, \"ticks\": \"\"}}, \"type\": \"histogram\"}], \"histogram2d\": [{\"colorbar\": {\"outlinewidth\": 0, \"ticks\": \"\"}, \"colorscale\": [[0.0, \"#0d0887\"], [0.1111111111111111, \"#46039f\"], [0.2222222222222222, \"#7201a8\"], [0.3333333333333333, \"#9c179e\"], [0.4444444444444444, \"#bd3786\"], [0.5555555555555556, \"#d8576b\"], [0.6666666666666666, \"#ed7953\"], [0.7777777777777778, \"#fb9f3a\"], [0.8888888888888888, \"#fdca26\"], [1.0, \"#f0f921\"]], \"type\": \"histogram2d\"}], \"histogram2dcontour\": [{\"colorbar\": {\"outlinewidth\": 0, \"ticks\": \"\"}, \"colorscale\": [[0.0, \"#0d0887\"], [0.1111111111111111, \"#46039f\"], [0.2222222222222222, \"#7201a8\"], [0.3333333333333333, \"#9c179e\"], [0.4444444444444444, \"#bd3786\"], [0.5555555555555556, \"#d8576b\"], [0.6666666666666666, \"#ed7953\"], [0.7777777777777778, \"#fb9f3a\"], [0.8888888888888888, \"#fdca26\"], [1.0, \"#f0f921\"]], \"type\": \"histogram2dcontour\"}], \"mesh3d\": [{\"colorbar\": {\"outlinewidth\": 0, \"ticks\": \"\"}, \"type\": \"mesh3d\"}], \"parcoords\": [{\"line\": {\"colorbar\": {\"outlinewidth\": 0, \"ticks\": \"\"}}, \"type\": \"parcoords\"}], \"pie\": [{\"automargin\": true, \"type\": \"pie\"}], \"scatter\": [{\"marker\": {\"colorbar\": {\"outlinewidth\": 0, \"ticks\": \"\"}}, \"type\": \"scatter\"}], \"scatter3d\": [{\"line\": {\"colorbar\": {\"outlinewidth\": 0, \"ticks\": \"\"}}, \"marker\": {\"colorbar\": {\"outlinewidth\": 0, \"ticks\": \"\"}}, \"type\": \"scatter3d\"}], \"scattercarpet\": [{\"marker\": {\"colorbar\": {\"outlinewidth\": 0, \"ticks\": \"\"}}, \"type\": \"scattercarpet\"}], \"scattergeo\": [{\"marker\": {\"colorbar\": {\"outlinewidth\": 0, \"ticks\": \"\"}}, \"type\": \"scattergeo\"}], \"scattergl\": [{\"marker\": {\"colorbar\": {\"outlinewidth\": 0, \"ticks\": \"\"}}, \"type\": \"scattergl\"}], \"scattermapbox\": [{\"marker\": {\"colorbar\": {\"outlinewidth\": 0, \"ticks\": \"\"}}, \"type\": \"scattermapbox\"}], \"scatterpolar\": [{\"marker\": {\"colorbar\": {\"outlinewidth\": 0, \"ticks\": \"\"}}, \"type\": \"scatterpolar\"}], \"scatterpolargl\": [{\"marker\": {\"colorbar\": {\"outlinewidth\": 0, \"ticks\": \"\"}}, \"type\": \"scatterpolargl\"}], \"scatterternary\": [{\"marker\": {\"colorbar\": {\"outlinewidth\": 0, \"ticks\": \"\"}}, \"type\": \"scatterternary\"}], \"surface\": [{\"colorbar\": {\"outlinewidth\": 0, \"ticks\": \"\"}, \"colorscale\": [[0.0, \"#0d0887\"], [0.1111111111111111, \"#46039f\"], [0.2222222222222222, \"#7201a8\"], [0.3333333333333333, \"#9c179e\"], [0.4444444444444444, \"#bd3786\"], [0.5555555555555556, \"#d8576b\"], [0.6666666666666666, \"#ed7953\"], [0.7777777777777778, \"#fb9f3a\"], [0.8888888888888888, \"#fdca26\"], [1.0, \"#f0f921\"]], \"type\": \"surface\"}], \"table\": [{\"cells\": {\"fill\": {\"color\": \"#EBF0F8\"}, \"line\": {\"color\": \"white\"}}, \"header\": {\"fill\": {\"color\": \"#C8D4E3\"}, \"line\": {\"color\": \"white\"}}, \"type\": \"table\"}]}, \"layout\": {\"annotationdefaults\": {\"arrowcolor\": \"#2a3f5f\", \"arrowhead\": 0, \"arrowwidth\": 1}, \"coloraxis\": {\"colorbar\": {\"outlinewidth\": 0, \"ticks\": \"\"}}, \"colorscale\": {\"diverging\": [[0, \"#8e0152\"], [0.1, \"#c51b7d\"], [0.2, \"#de77ae\"], [0.3, \"#f1b6da\"], [0.4, \"#fde0ef\"], [0.5, \"#f7f7f7\"], [0.6, \"#e6f5d0\"], [0.7, \"#b8e186\"], [0.8, \"#7fbc41\"], [0.9, \"#4d9221\"], [1, \"#276419\"]], \"sequential\": [[0.0, \"#0d0887\"], [0.1111111111111111, \"#46039f\"], [0.2222222222222222, \"#7201a8\"], [0.3333333333333333, \"#9c179e\"], [0.4444444444444444, \"#bd3786\"], [0.5555555555555556, \"#d8576b\"], [0.6666666666666666, \"#ed7953\"], [0.7777777777777778, \"#fb9f3a\"], [0.8888888888888888, \"#fdca26\"], [1.0, \"#f0f921\"]], \"sequentialminus\": [[0.0, \"#0d0887\"], [0.1111111111111111, \"#46039f\"], [0.2222222222222222, \"#7201a8\"], [0.3333333333333333, \"#9c179e\"], [0.4444444444444444, \"#bd3786\"], [0.5555555555555556, \"#d8576b\"], [0.6666666666666666, \"#ed7953\"], [0.7777777777777778, \"#fb9f3a\"], [0.8888888888888888, \"#fdca26\"], [1.0, \"#f0f921\"]]}, \"colorway\": [\"#636efa\", \"#EF553B\", \"#00cc96\", \"#ab63fa\", \"#FFA15A\", \"#19d3f3\", \"#FF6692\", \"#B6E880\", \"#FF97FF\", \"#FECB52\"], \"font\": {\"color\": \"#2a3f5f\"}, \"geo\": {\"bgcolor\": \"white\", \"lakecolor\": \"white\", \"landcolor\": \"white\", \"showlakes\": true, \"showland\": true, \"subunitcolor\": \"#C8D4E3\"}, \"hoverlabel\": {\"align\": \"left\"}, \"hovermode\": \"closest\", \"mapbox\": {\"style\": \"light\"}, \"paper_bgcolor\": \"white\", \"plot_bgcolor\": \"white\", \"polar\": {\"angularaxis\": {\"gridcolor\": \"#EBF0F8\", \"linecolor\": \"#EBF0F8\", \"ticks\": \"\"}, \"bgcolor\": \"white\", \"radialaxis\": {\"gridcolor\": \"#EBF0F8\", \"linecolor\": \"#EBF0F8\", \"ticks\": \"\"}}, \"scene\": {\"xaxis\": {\"backgroundcolor\": \"white\", \"gridcolor\": \"#DFE8F3\", \"gridwidth\": 2, \"linecolor\": \"#EBF0F8\", \"showbackground\": true, \"ticks\": \"\", \"zerolinecolor\": \"#EBF0F8\"}, \"yaxis\": {\"backgroundcolor\": \"white\", \"gridcolor\": \"#DFE8F3\", \"gridwidth\": 2, \"linecolor\": \"#EBF0F8\", \"showbackground\": true, \"ticks\": \"\", \"zerolinecolor\": \"#EBF0F8\"}, \"zaxis\": {\"backgroundcolor\": \"white\", \"gridcolor\": \"#DFE8F3\", \"gridwidth\": 2, \"linecolor\": \"#EBF0F8\", \"showbackground\": true, \"ticks\": \"\", \"zerolinecolor\": \"#EBF0F8\"}}, \"shapedefaults\": {\"line\": {\"color\": \"#2a3f5f\"}}, \"ternary\": {\"aaxis\": {\"gridcolor\": \"#DFE8F3\", \"linecolor\": \"#A2B1C6\", \"ticks\": \"\"}, \"baxis\": {\"gridcolor\": \"#DFE8F3\", \"linecolor\": \"#A2B1C6\", \"ticks\": \"\"}, \"bgcolor\": \"white\", \"caxis\": {\"gridcolor\": \"#DFE8F3\", \"linecolor\": \"#A2B1C6\", \"ticks\": \"\"}}, \"title\": {\"x\": 0.05}, \"xaxis\": {\"automargin\": true, \"gridcolor\": \"#EBF0F8\", \"linecolor\": \"#EBF0F8\", \"ticks\": \"\", \"title\": {\"standoff\": 15}, \"zerolinecolor\": \"#EBF0F8\", \"zerolinewidth\": 2}, \"yaxis\": {\"automargin\": true, \"gridcolor\": \"#EBF0F8\", \"linecolor\": \"#EBF0F8\", \"ticks\": \"\", \"title\": {\"standoff\": 15}, \"zerolinecolor\": \"#EBF0F8\", \"zerolinewidth\": 2}}}, \"title\": {\"text\": \"Hotspot Cities Detected With Most cases\"}, \"width\": 700, \"xaxis\": {\"anchor\": \"y\", \"categoryarray\": [\"Thane\", \"MCGM\", \"Navi Mumbai\", \"PMC\", \"Vasai-Virar\", \"Mira-Bhayandar\", \"Nagpur\", \"Kalyan-Dombivali\", \"Bengaluru\", \"Malegaon\", \"Mumbai\", \"Pimpri-Chinchwad\", \"Pune\", \"Thane Rural\", \"Kasaragod\"], \"categoryorder\": \"array\", \"domain\": [0.0, 1.0], \"title\": {\"text\": \"Cities\"}}, \"yaxis\": {\"anchor\": \"x\", \"domain\": [0.0, 1.0], \"title\": {\"text\": \"Counts\"}}},\n",
       "                        {\"responsive\": true}\n",
       "                    ).then(function(){\n",
       "                            \n",
       "var gd = document.getElementById('437e03b9-651d-4e60-b7f9-963054b2084f');\n",
       "var x = new MutationObserver(function (mutations, observer) {{\n",
       "        var display = window.getComputedStyle(gd).display;\n",
       "        if (!display || display === 'none') {{\n",
       "            console.log([gd, 'removed!']);\n",
       "            Plotly.purge(gd);\n",
       "            observer.disconnect();\n",
       "        }}\n",
       "}});\n",
       "\n",
       "// Listen for the removal of the full notebook cells\n",
       "var notebookContainer = gd.closest('#notebook-container');\n",
       "if (notebookContainer) {{\n",
       "    x.observe(notebookContainer, {childList: true});\n",
       "}}\n",
       "\n",
       "// Listen for the clearing of the current output cell\n",
       "var outputEl = gd.closest('.output');\n",
       "if (outputEl) {{\n",
       "    x.observe(outputEl, {childList: true});\n",
       "}}\n",
       "\n",
       "                        })\n",
       "                };\n",
       "                });\n",
       "            </script>\n",
       "        </div>"
      ]
     },
     "metadata": {},
     "output_type": "display_data"
    }
   ],
   "source": [
    "df_individual = pd.read_csv('IndividualDetails.csv', usecols = ['detected_city', 'notes'])\n",
    "detected_city = df_individual['detected_city'].value_counts().reset_index()\n",
    "detected_city.rename(columns={\"index\":\"Cities\",\"detected_city\": \"Counts\"}, inplace=True)\n",
    "fig = px.bar(detected_city.sort_values('Counts', ascending=True).sort_values('Counts', ascending=False).head(15), \n",
    "             y=\"Counts\", x=\"Cities\", color= \"Cities\",\n",
    "             title='Hotspot Cities Detected With Most cases', \n",
    "             orientation='v',\n",
    "             color_discrete_sequence = px.colors.cyclical.IceFire,\n",
    "             width=700, height=600)\n",
    "fig.update_traces(opacity=0.8)\n",
    "\n",
    "fig.update_layout(template = 'plotly_white')\n",
    "fig.show()"
   ]
  },
  {
   "cell_type": "code",
   "execution_count": 160,
   "metadata": {},
   "outputs": [
    {
     "data": {
      "image/png": "[encoded data removed]",
      "text/plain": [
       "<Figure size 1080x720 with 1 Axes>"
      ]
     },
     "metadata": {
      "needs_background": "light"
     },
     "output_type": "display_data"
    }
   ],
   "source": [
    "spread = pd.read_csv(\"covid_19_india.csv\",)\n",
    "dates = list(confirmed_df.columns[4:])\n",
    "dates = list(pd.to_datetime(dates))\n",
    "dates_india = dates[8:]\n",
    "\n",
    "df1 = confirmed_df.groupby('Country/Region').sum().reset_index()\n",
    "df2 = deaths_df.groupby('Country/Region').sum().reset_index()\n",
    "df3 = recovered_df.groupby('Country/Region').sum().reset_index()\n",
    "\n",
    "k = df1[df1['Country/Region']=='India'].loc[:,'1/30/20':]\n",
    "india_confirmed = k.values.tolist()[0] \n",
    "\n",
    "k = df2[df2['Country/Region']=='India'].loc[:,'1/30/20':]\n",
    "india_deaths = k.values.tolist()[0] \n",
    "\n",
    "k = df3[df3['Country/Region']=='India'].loc[:,'1/30/20':]\n",
    "india_recovered = k.values.tolist()[0] \n",
    "\n",
    "plt.figure(figsize= (15,10))\n",
    "plt.xticks(rotation = 90 ,fontsize = 11)\n",
    "plt.yticks(fontsize = 10)\n",
    "plt.xlabel(\"Dates\",fontsize = 20)\n",
    "plt.ylabel('Total cases',fontsize = 20)\n",
    "plt.title(\"Total Confirmed, Active, Death in India\" , fontsize = 20)\n",
    "\n",
    "ax1 = plt.plot_date(y= india_confirmed,x= dates_india,label = 'Confirmed',linestyle ='-',color = 'b')\n",
    "ax2 = plt.plot_date(y= india_recovered,x= dates_india,label = 'Recovered',linestyle ='-',color = 'g')\n",
    "ax3 = plt.plot_date(y= india_deaths,x= dates_india,label = 'Death',linestyle ='-',color = 'r')\n",
    "plt.legend();"
   ]
  },
  {
   "cell_type": "code",
   "execution_count": null,
   "metadata": {},
   "outputs": [],
   "source": []
  },
  {
   "cell_type": "code",
   "execution_count": null,
   "metadata": {},
   "outputs": [],
   "source": []
  }
 ],
 "metadata": {
  "kernelspec": {
   "display_name": "Python 3",
   "language": "python",
   "name": "python3"
  },
  "language_info": {
   "codemirror_mode": {
    "name": "ipython",
    "version": 3
   },
   "file_extension": ".py",
   "mimetype": "text/x-python",
   "name": "python",
   "nbconvert_exporter": "python",
   "pygments_lexer": "ipython3",
   "version": "3.7.6"
  }
 },
 "nbformat": 4,
 "nbformat_minor": 4
}
